{
 "cells": [
  {
   "cell_type": "code",
   "execution_count": null,
   "metadata": {},
   "outputs": [],
   "source": [
    "import sqlite3\n",
    "import time\n",
    "import csv\n",
    "\n",
    "import snap"
   ]
  },
  {
   "cell_type": "code",
   "execution_count": null,
   "metadata": {},
   "outputs": [],
   "source": [
    "stime = time.time()\n",
    "FIn = snap.TFIn('graph.graph')\n",
    "g = snap.TNGraph.Load(FIn)\n",
    "etime = time.time()\n",
    "print(f'Graph load during {etime-stime}')"
   ]
  },
  {
   "cell_type": "code",
   "execution_count": null,
   "metadata": {},
   "outputs": [],
   "source": [
    "stime = time.time()\n",
    "modularity = snap.CommunityCNM(UGraph, CmtyV)\n",
    "CmtyV = snap.TCnComV()\n",
    "etime = time.time()\n",
    "print(\"The modularity of the network is %f\" % modularity)\n",
    "print(f'Graph load during {etime-stime}')"
   ]
  }
 ],
 "metadata": {
  "kernelspec": {
   "display_name": "Bitcoin",
   "language": "python",
   "name": "bitcoin"
  },
  "language_info": {
   "codemirror_mode": {
    "name": "ipython",
    "version": 3
   },
   "file_extension": ".py",
   "mimetype": "text/x-python",
   "name": "python",
   "nbconvert_exporter": "python",
   "pygments_lexer": "ipython3",
   "version": "3.8.3"
  }
 },
 "nbformat": 4,
 "nbformat_minor": 4
}
