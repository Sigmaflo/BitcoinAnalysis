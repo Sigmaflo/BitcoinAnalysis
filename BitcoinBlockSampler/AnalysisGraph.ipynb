{
 "cells": [
  {
   "cell_type": "markdown",
   "metadata": {},
   "source": [
    "# Bitcoin Graph Analysis"
   ]
  },
  {
   "cell_type": "code",
   "execution_count": null,
   "metadata": {},
   "outputs": [],
   "source": [
    "import os\n",
    "import csv\n",
    "import sqlite3\n",
    "\n",
    "import igraph\n",
    "import pandas as pd\n",
    "\n",
    "from time_manager import get_unixtime"
   ]
  },
  {
   "cell_type": "code",
   "execution_count": null,
   "metadata": {},
   "outputs": [],
   "source": [
    "IGRAPH_PICKLE = ''\n",
    "g = igraph.Graph.Read_Pickle(IGRAPH_PICKLE)"
   ]
  },
  {
   "cell_type": "code",
   "execution_count": null,
   "metadata": {},
   "outputs": [],
   "source": [
    "partition = g.community_leiden(objective_function='modularity')\n",
    "\n",
    "df = pd.DataFrame()\n",
    "df['membership'] = partition.membership\n",
    "\n",
    "dfcnt = df['membership'].value_counts()\n",
    "largest_comm = dfcnt.sort_values(ascending=False).index"
   ]
  }
 ],
 "metadata": {
  "kernelspec": {
   "display_name": "Bitcoin",
   "language": "python",
   "name": "bitcoin"
  },
  "language_info": {
   "codemirror_mode": {
    "name": "ipython",
    "version": 3
   },
   "file_extension": ".py",
   "mimetype": "text/x-python",
   "name": "python",
   "nbconvert_exporter": "python",
   "pygments_lexer": "ipython3",
   "version": "3.8.5"
  }
 },
 "nbformat": 4,
 "nbformat_minor": 4
}
