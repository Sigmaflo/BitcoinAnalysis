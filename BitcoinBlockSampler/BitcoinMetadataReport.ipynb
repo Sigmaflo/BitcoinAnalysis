{
 "cells": [
  {
   "cell_type": "markdown",
   "metadata": {},
   "source": [
    "# Bitcoin Metadata Report"
   ]
  },
  {
   "cell_type": "markdown",
   "metadata": {},
   "source": [
    "## Index database creation time\n",
    "  - BlkIndex\n",
    "  - TxIndex\n",
    "  - AddrIndex\n",
    "  ### Result block height from 0 to 620000\n",
    "    - real 2614m46.060s\n",
    "    - user 1403m29.450s\n",
    "    - sys 688m46.936s"
   ]
  },
  {
   "cell_type": "code",
   "execution_count": null,
   "metadata": {},
   "outputs": [],
   "source": [
    "import pickle\n",
    "with open(input('taking_index.pickle path: '), 'rb') as f:\n",
    "    data = pickle.load(f)"
   ]
  },
  {
   "cell_type": "code",
   "execution_count": null,
   "metadata": {},
   "outputs": [],
   "source": [
    "import pickle\n",
    "\n",
    "import matplotlib.pylab as plt\n",
    "# %matplotlib widget\n",
    "%matplotlib inline\n",
    "\n",
    "import pandas as pd\n",
    "import numpy as np"
   ]
  },
  {
   "cell_type": "code",
   "execution_count": null,
   "metadata": {},
   "outputs": [],
   "source": [
    "df = pd.DataFrame.from_dict(data, orient='index', columns=['Time'])"
   ]
  },
  {
   "cell_type": "code",
   "execution_count": null,
   "metadata": {},
   "outputs": [],
   "source": [
    "fig1 = plt.figure(figsize=(8, 8))\n",
    "ax1 = fig1.add_subplot()\n",
    "ax1.plot(df)\n",
    "ax1.set_title('Block indexing time', fontsize='large')\n",
    "ax1.set_xlabel('Block height', fontsize='x-large')\n",
    "ax1.set_ylabel('Time (sec)', fontsize='x-large')\n",
    "ax1.tick_params(axis='both', which='major', labelsize='large')"
   ]
  },
  {
   "cell_type": "code",
   "execution_count": null,
   "metadata": {},
   "outputs": [],
   "source": [
    "print((f'Total processing time:\\n'\n",
    "       f'{np.sum(df)[\"Time\"]} Secs\\n'\n",
    "       f'=> {np.sum(df)[\"Time\"]/60} Mins\\n'\n",
    "       f'=> {np.sum(df)[\"Time\"]/60/60} Hours\\n'))"
   ]
  },
  {
   "cell_type": "code",
   "execution_count": null,
   "metadata": {},
   "outputs": [],
   "source": []
  }
 ],
 "metadata": {
  "kernelspec": {
   "display_name": "Bitcoin",
   "language": "python",
   "name": "bitcoin"
  },
  "language_info": {
   "codemirror_mode": {
    "name": "ipython",
    "version": 3
   },
   "file_extension": ".py",
   "mimetype": "text/x-python",
   "name": "python",
   "nbconvert_exporter": "python",
   "pygments_lexer": "ipython3",
   "version": "3.8.3"
  }
 },
 "nbformat": 4,
 "nbformat_minor": 4
}
