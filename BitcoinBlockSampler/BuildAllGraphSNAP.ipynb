{
 "cells": [
  {
   "cell_type": "code",
   "execution_count": null,
   "metadata": {},
   "outputs": [],
   "source": [
    "import sqlite3\n",
    "import time\n",
    "import csv\n",
    "\n",
    "import snap"
   ]
  },
  {
   "cell_type": "code",
   "execution_count": null,
   "metadata": {},
   "outputs": [],
   "source": [
    "db = 'edge.db'\n",
    "conn = sqlite3.connect(f'file:{db}?mode=ro', uri=True)\n",
    "cur = conn.cursor()\n",
    "\n",
    "def get_edge_count():\n",
    "    cur.execute('''SELECT COUNT(*) FROM Edge;''')\n",
    "    return cur.fetchone()[0]\n",
    "\n",
    "def get_edge_cursor():\n",
    "    cur.execute('''SELECT src, dst FROM Edge;''')\n",
    "    return cur\n",
    "\n",
    "index_db = 'index.db'\n",
    "index_conn = sqlite3.connect(f'file:{index_db}?mode=ro', uri=True)\n",
    "index_cur = index_conn.cursor()\n",
    "\n",
    "def get_node_count():\n",
    "    index_cur.execute('''SELECT MAX(id) FROM AddrId;''')\n",
    "    return index_cur.fetchone()[0]"
   ]
  },
  {
   "cell_type": "code",
   "execution_count": null,
   "metadata": {},
   "outputs": [],
   "source": [
    "stime = time.time()\n",
    "g = snap.TUndirNet.New()\n",
    "for i in range(0, get_node_count()+1):\n",
    "    g.AddNode(i)\n",
    "etime = time.time()\n",
    "print(f'Add Nodes Done during {etime-stime}')"
   ]
  },
  {
   "cell_type": "code",
   "execution_count": null,
   "metadata": {},
   "outputs": [],
   "source": [
    "stime = time.time()\n",
    "now = 0\n",
    "until = get_edge_count()\n",
    "for s, d in get_edge_cursor():\n",
    "    g.AddEdge(s, d)\n",
    "    now = now + 1\n",
    "    print(f'{now/until*100}%', end='\\r')\n",
    "etime = time.time()\n",
    "print(f'Add Edges Done during {etime-stime}')"
   ]
  },
  {
   "cell_type": "code",
   "execution_count": null,
   "metadata": {},
   "outputs": [],
   "source": [
    "stime = time.time()\n",
    "FOut = snap.TFOut('graph.graph')\n",
    "g.save(FOut)\n",
    "FOut.Flush()\n",
    "etime = time.time()\n",
    "print(f'Graph save during {etime-stime}')"
   ]
  },
  {
   "cell_type": "code",
   "execution_count": null,
   "metadata": {},
   "outputs": [],
   "source": [
    "conn.close()\n",
    "index_conn.close()"
   ]
  }
 ],
 "metadata": {
  "kernelspec": {
   "display_name": "SNAP",
   "language": "python",
   "name": "snap"
  },
  "language_info": {
   "codemirror_mode": {
    "name": "ipython",
    "version": 3
   },
   "file_extension": ".py",
   "mimetype": "text/x-python",
   "name": "python",
   "nbconvert_exporter": "python",
   "pygments_lexer": "ipython3",
   "version": "3.7.8"
  }
 },
 "nbformat": 4,
 "nbformat_minor": 4
}
