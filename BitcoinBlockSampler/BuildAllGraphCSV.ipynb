{
 "cells": [
  {
   "cell_type": "code",
   "execution_count": null,
   "metadata": {},
   "outputs": [],
   "source": [
    "import sqlite3\n",
    "import time\n",
    "import csv\n",
    "\n",
    "import igraph"
   ]
  },
  {
   "cell_type": "code",
   "execution_count": null,
   "metadata": {},
   "outputs": [],
   "source": [
    "index_db = 'index.db'\n",
    "index_conn = sqlite3.connect(f'file:{index_db}?mode=ro', uri=True)\n",
    "index_cur = index_conn.cursor()\n",
    "\n",
    "def get_node_count():\n",
    "    index_cur.execute('''SELECT MAX(id) FROM AddrId;''')\n",
    "    return index_cur.fetchone()[0]"
   ]
  },
  {
   "cell_type": "code",
   "execution_count": null,
   "metadata": {},
   "outputs": [],
   "source": [
    "stime = time.time()\n",
    "with open('edge.csv', 'r') as f:\n",
    "    reader = csv.reader(f)\n",
    "    g = igraph.Graph.TupleList(reader, weights=True)\n",
    "etime = time.time()\n",
    "print(f'Add Edges Done during {etime-stime}')"
   ]
  },
  {
   "cell_type": "code",
   "execution_count": null,
   "metadata": {},
   "outputs": [],
   "source": [
    "stime = time.time()\n",
    "g.write_pickle('graph.igraph')\n",
    "etime = time.time()\n",
    "print(f'Graph Pickling Done Done during {etime-stime}')"
   ]
  },
  {
   "cell_type": "code",
   "execution_count": null,
   "metadata": {},
   "outputs": [],
   "source": [
    "index_conn.close()"
   ]
  },
  {
   "cell_type": "code",
   "execution_count": null,
   "metadata": {},
   "outputs": [],
   "source": []
  }
 ],
 "metadata": {
  "kernelspec": {
   "display_name": "Bitcoin",
   "language": "python",
   "name": "bitcoin"
  },
  "language_info": {
   "codemirror_mode": {
    "name": "ipython",
    "version": 3
   },
   "file_extension": ".py",
   "mimetype": "text/x-python",
   "name": "python",
   "nbconvert_exporter": "python",
   "pygments_lexer": "ipython3",
   "version": "3.8.3"
  }
 },
 "nbformat": 4,
 "nbformat_minor": 4
}
