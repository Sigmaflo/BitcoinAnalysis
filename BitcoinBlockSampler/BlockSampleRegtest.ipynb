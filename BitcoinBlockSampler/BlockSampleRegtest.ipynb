{
 "cells": [
  {
   "cell_type": "markdown",
   "metadata": {},
   "source": [
    "### Bitcoin block sampler\n",
    "[Bitcoin core RPC API](https://en.bitcoin.it/wiki/Original_Bitcoin_client/API_calls_list)\n",
    "\n",
    "[Bitcoin core RPC Doc](https://bitcoin.org/en/developer-reference#remote-procedure-calls-rpcs)\n",
    "\n",
    "#### Operation ordering\n"
   ]
  },
  {
   "cell_type": "code",
   "execution_count": null,
   "metadata": {},
   "outputs": [],
   "source": [
    "# For secrets\n",
    "from secret import rpc_user, rpc_password"
   ]
  },
  {
   "cell_type": "code",
   "execution_count": null,
   "metadata": {},
   "outputs": [],
   "source": [
    "## Check the bitcoind running\n",
    "import os\n",
    "\n",
    "datadir = os.path.abspath(os.path.expanduser('~/.bitcoin'))\n",
    "pid_path = os.path.join(datadir, 'bitcoind.pid')\n",
    "if os.path.exists(pid_path):\n",
    "    with open(pid_path, 'r') as f:\n",
    "        print(f'Bitcoind PID: {f.read()}')\n",
    "else:\n",
    "    raise SystemExit('Bitcoind is running!')\n",
    "\n",
    "datadir = os.path.abspath(os.path.expanduser('~/.bitcoin/regtest'))\n",
    "pid_path = os.path.join(datadir, 'bitcoind.pid')\n",
    "if os.path.exists(pid_path):\n",
    "    with open(pid_path, 'r') as f:\n",
    "        print(f'Bitcoind -chain=regtest PID: {f.read()}')\n",
    "else:\n",
    "    raise SystemExit('Bitcoind -chain=regtest is running!')"
   ]
  },
  {
   "cell_type": "code",
   "execution_count": null,
   "metadata": {},
   "outputs": [],
   "source": [
    "## Some library\n",
    "from address_convertor import pubkey_to_address, get_pubkey"
   ]
  },
  {
   "cell_type": "code",
   "execution_count": null,
   "metadata": {},
   "outputs": [],
   "source": [
    "## Some function for convenient\n",
    "import datetime\n",
    "\n",
    "tz_seoul = datetime.timezone(datetime.timedelta(hours=9))\n",
    "tz_utc = datetime.timezone(datetime.timedelta())\n",
    "\n",
    "def get_time(timestamp):\n",
    "    return datetime.datetime.fromtimestamp(timestamp, tz=tz_seoul)"
   ]
  },
  {
   "cell_type": "code",
   "execution_count": null,
   "metadata": {},
   "outputs": [],
   "source": [
    "from bitcoinrpc.authproxy import AuthServiceProxy, JSONRPCException\n",
    "rpc_ip = '127.0.0.1' # default '127.0.0.1'\n",
    "rpc_port = '8332' # default '8332'\n",
    "rpc_port_regtest = '18443' # default '18443'\n",
    "timeout = 300\n",
    "\n",
    "rpc_connection = AuthServiceProxy(f'http://{rpc_user}:{rpc_password}@{rpc_ip}:{rpc_port}', timeout=timeout)\n",
    "best_block_hash = rpc_connection.getbestblockhash()\n",
    "best_block = rpc_connection.getblock(best_block_hash)\n",
    "print(f'Best Main Block Heights: {best_block[\"height\"]}, Time: {get_time(best_block[\"time\"]).isoformat()}')"
   ]
  },
  {
   "cell_type": "code",
   "execution_count": null,
   "metadata": {},
   "outputs": [],
   "source": [
    "def get_balance(rpc_connection, v):\n",
    "    tx = rpc_connection.getrawtransaction(v['txid'], 1)\n",
    "    block = rpc_connection.getblock(tx['blockhash'])\n",
    "    if tx['vout'][v['vout']]['scriptPubKey']['type'] in ('pubkeyhash', 'scripthash', \n",
    "                                                         'witness_v0_keyhash', 'witness_v0_scripthash',\n",
    "                                                         'multisig'):\n",
    "        addr = tx['vout'][v['vout']]['scriptPubKey']['addresses']\n",
    "    elif tx['vout'][v['vout']]['scriptPubKey']['type'] == 'pubkey':\n",
    "        addr = [pubkey_to_address(get_pubkey(tx['vout'][v['vout']]['scriptPubKey']['hex']))]\n",
    "    else:\n",
    "        raise Exception(f'Need to fix {v[\"txid\"]}')\n",
    "    height = block['height']\n",
    "    value = tx['vout'][v['vout']]['value']\n",
    "    print(value)\n",
    "    return addr, height, value"
   ]
  },
  {
   "cell_type": "code",
   "execution_count": null,
   "metadata": {},
   "outputs": [],
   "source": [
    "# Input block\n",
    "sheight = int(input('Start block height: '))\n",
    "eheight = int(input('End block height: '))"
   ]
  },
  {
   "cell_type": "code",
   "execution_count": null,
   "metadata": {},
   "outputs": [],
   "source": [
    "import json\n",
    "\n",
    "def sigint_safe_json_saver(data, path):\n",
    "    try:\n",
    "        with open(path, 'w') as f:\n",
    "            json.dump(data, f, ensure_ascii=False, indent=2)\n",
    "    except KeyboardInterrupt:\n",
    "        with open(path, 'w') as f:\n",
    "            json.dump(data, f, ensure_ascii=False, indent=2)"
   ]
  },
  {
   "cell_type": "code",
   "execution_count": null,
   "metadata": {},
   "outputs": [],
   "source": [
    "import os\n",
    "\n",
    "def get_processed_blocks(path):\n",
    "    processed = set()\n",
    "    with os.scandir(path) as it:\n",
    "        for entry in it:\n",
    "            if entry.is_file():\n",
    "                name = os.path.basename(entry.path)\n",
    "                processed.add(name.split('.')[0])\n",
    "    return processed"
   ]
  },
  {
   "cell_type": "code",
   "execution_count": null,
   "metadata": {},
   "outputs": [],
   "source": [
    "import os\n",
    "import time\n",
    "\n",
    "path_base = os.path.abspath(os.path.expanduser(f'./{sheight}-{eheight}'))\n",
    "os.makedirs(path_base, exist_ok=True)\n",
    "processed = get_processed_blocks(path_base)\n",
    "\n",
    "def get_dummy(theight):\n",
    "    stime = time.time()\n",
    "    if not theight in processed:\n",
    "        base = list()\n",
    "        rpc_connection = AuthServiceProxy(f'http://{rpc_user}:{rpc_password}@{rpc_ip}:{rpc_port}', \n",
    "                                          timeout=timeout)\n",
    "        block_hash = rpc_connection.getblockhash(theight)\n",
    "        block = rpc_connection.getblock(block_hash, 2)\n",
    "        for tx in block['tx'][1:]:\n",
    "            for v in tx['vin']:\n",
    "                addr, height, value = get_balance(rpc_connection, v)\n",
    "                if not (sheight <= height <= eheight):\n",
    "                    base.append({'addresses': addr, 'value': float(value)})\n",
    "        path = os.path.join(path_base, f'{theight}.json')\n",
    "        sigint_safe_json_saver(base, path)\n",
    "    etime = time.time()\n",
    "    print(f'[{os.getpid()}] {theight} block processed during {etime-stime} secs.')"
   ]
  },
  {
   "cell_type": "code",
   "execution_count": null,
   "metadata": {},
   "outputs": [],
   "source": [
    "import time\n",
    "import itertools\n",
    "import multiprocessing\n",
    "\n",
    "stime = time.time()\n",
    "pool_num = 8 # quad core with hyper threads\n",
    "with multiprocessing.Pool(pool_num) as p:\n",
    "    p.map(get_dummy, range(sheight, eheight+1))\n",
    "etime = time.time()\n",
    "print(f'Job done {len(result)} during {etime-stime}')"
   ]
  }
 ],
 "metadata": {
  "kernelspec": {
   "display_name": "Bitcoin",
   "language": "python",
   "name": "bitcoin"
  },
  "language_info": {
   "codemirror_mode": {
    "name": "ipython",
    "version": 3
   },
   "file_extension": ".py",
   "mimetype": "text/x-python",
   "name": "python",
   "nbconvert_exporter": "python",
   "pygments_lexer": "ipython3",
   "version": "3.8.2"
  }
 },
 "nbformat": 4,
 "nbformat_minor": 4
}
