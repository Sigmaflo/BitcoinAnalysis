{
 "cells": [
  {
   "cell_type": "markdown",
   "metadata": {},
   "source": [
    "### Bitcoin block sampler\n",
    "[Bitcoin core RPC API](https://en.bitcoin.it/wiki/Original_Bitcoin_client/API_calls_list)\n",
    "\n",
    "#### Operation ordering\n"
   ]
  },
  {
   "cell_type": "code",
   "execution_count": null,
   "metadata": {},
   "outputs": [],
   "source": [
    "# For secrets\n",
    "from secret import rpc_user, rpc_password"
   ]
  },
  {
   "cell_type": "code",
   "execution_count": null,
   "metadata": {},
   "outputs": [],
   "source": [
    "## Check the bitcoind running\n",
    "import os\n",
    "\n",
    "datadir = os.path.abspath(os.path.expanduser('~/.bitcoin'))\n",
    "pid_path = os.path.join(datadir, 'bitcoind.pid')\n",
    "if os.path.exists(pid_path):\n",
    "    with open(pid_path, 'r') as f:\n",
    "        print(f'Bitcoind PID: {f.read()}')\n",
    "else:\n",
    "    raise SystemExit('Bitcoind is running!')\n",
    "\n",
    "datadir = os.path.abspath(os.path.expanduser('~/.bitcoin/regtest'))\n",
    "pid_path = os.path.join(datadir, 'bitcoind.pid')\n",
    "if os.path.exists(pid_path):\n",
    "    with open(pid_path, 'r') as f:\n",
    "        print(f'Bitcoind -chain=regtest PID: {f.read()}')\n",
    "else:\n",
    "    raise SystemExit('Bitcoind -chain=regtest is running!')"
   ]
  },
  {
   "cell_type": "code",
   "execution_count": null,
   "metadata": {},
   "outputs": [],
   "source": [
    "## Some function for convenient\n",
    "import datetime\n",
    "\n",
    "tz_seoul = datetime.timezone(datetime.timedelta(hours=9))\n",
    "tz_utc = datetime.timezone(datetime.timedelta())\n",
    "\n",
    "def get_time(timestamp):\n",
    "    return datetime.datetime.fromtimestamp(timestamp, tz=tz_seoul)"
   ]
  },
  {
   "cell_type": "code",
   "execution_count": null,
   "metadata": {},
   "outputs": [],
   "source": [
    "from bitcoinrpc.authproxy import AuthServiceProxy, JSONRPCException\n",
    "rpc_ip = '127.0.0.1'\n",
    "rpc_port = '8332'\n",
    "rpc_port_regtest = '18443'\n",
    "timeout = 300\n",
    "\n",
    "rpc_connection = AuthServiceProxy(f'http://{rpc_user}:{rpc_password}@{rpc_ip}:{rpc_port}', timeout=timeout)\n",
    "best_block_hash = rpc_connection.getbestblockhash()\n",
    "best_block = rpc_connection.getblock(best_block_hash)\n",
    "print(f'Best Main Block Heights: {best_block[\"height\"]}, Time: {get_time(best_block[\"time\"]).isoformat()}')"
   ]
  },
  {
   "cell_type": "markdown",
   "metadata": {},
   "source": [
    "### Flow\n",
    "1. Find address set by address apearance type\n",
    "  - Unlinked addresses\n",
    "  - Linked addresses"
   ]
  },
  {
   "cell_type": "code",
   "execution_count": null,
   "metadata": {},
   "outputs": [],
   "source": [
    "%%time\n",
    "### Flow 1\n",
    "rpc_connection = AuthServiceProxy(f'http://{rpc_user}:{rpc_password}@{rpc_ip}:{rpc_port}', \n",
    "                                  timeout=timeout)\n",
    "\n",
    "sheight = 578670\n",
    "eheight = 583179\n",
    "\n",
    "bi = 0\n",
    "term = 1000\n",
    "for i in range(sheight, eheight+term, term):\n",
    "    i = min(eheight+1, i)\n",
    "    commands = [ ['getblockhash', height] for height in range(bi, i) ]\n",
    "    block_hashes = rpc_connection.batch_(commands)\n",
    "    commands = [ ['getblock', h] for h in block_hashes ]\n",
    "    blocks = rpc_connection.batch_(commands)\n",
    "    commands = [ ['']]\n",
    "    ntx = [ block['nTx'] for block in blocks ]\n",
    "\n",
    "    for block in blocks:\n",
    "        if get_time(block['time']) < start:\n",
    "            continue\n",
    "        elif get_time(block['time']) > end:\n",
    "            continue\n",
    "        if sheight > block['height']:\n",
    "            sheight = block['height']\n",
    "        if eheight < block['height']:\n",
    "            eheight = block['height']\n",
    "    bi = i\n",
    "    print(f'Reading {i} / {best_block[\"height\"]} ({i/best_block[\"height\"]*100}%)', end='\\r')\n",
    "print('')\n",
    "print(f'Query-reply done.')\n",
    "print(f'Start height: {sheight}, End height: {eheight}')"
   ]
  }
 ],
 "metadata": {
  "kernelspec": {
   "display_name": "Bitcoin",
   "language": "python",
   "name": "bitcoin"
  },
  "language_info": {
   "codemirror_mode": {
    "name": "ipython",
    "version": 3
   },
   "file_extension": ".py",
   "mimetype": "text/x-python",
   "name": "python",
   "nbconvert_exporter": "python",
   "pygments_lexer": "ipython3",
   "version": "3.8.2"
  }
 },
 "nbformat": 4,
 "nbformat_minor": 4
}
