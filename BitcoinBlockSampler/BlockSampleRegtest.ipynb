{
 "cells": [
  {
   "cell_type": "markdown",
   "metadata": {},
   "source": [
    "### Bitcoin block sampler\n",
    "[Bitcoin core RPC API](https://en.bitcoin.it/wiki/Original_Bitcoin_client/API_calls_list)\n",
    "\n",
    "[Bitcoin core RPC Doc](https://bitcoin.org/en/developer-reference#remote-procedure-calls-rpcs)\n",
    "\n",
    "#### Operation ordering\n"
   ]
  },
  {
   "cell_type": "code",
   "execution_count": null,
   "metadata": {},
   "outputs": [],
   "source": [
    "# For secrets\n",
    "from secret import rpc_user, rpc_password"
   ]
  },
  {
   "cell_type": "code",
   "execution_count": null,
   "metadata": {},
   "outputs": [],
   "source": [
    "## Check the bitcoind running\n",
    "import os\n",
    "\n",
    "datadir = os.path.abspath(os.path.expanduser('~/.bitcoin'))\n",
    "pid_path = os.path.join(datadir, 'bitcoind.pid')\n",
    "if os.path.exists(pid_path):\n",
    "    with open(pid_path, 'r') as f:\n",
    "        print(f'Bitcoind PID: {f.read()}')\n",
    "else:\n",
    "    raise SystemExit('Bitcoind is running!')\n",
    "\n",
    "datadir = os.path.abspath(os.path.expanduser('~/.bitcoin/regtest'))\n",
    "pid_path = os.path.join(datadir, 'bitcoind.pid')\n",
    "if os.path.exists(pid_path):\n",
    "    with open(pid_path, 'r') as f:\n",
    "        print(f'Bitcoind -chain=regtest PID: {f.read()}')\n",
    "else:\n",
    "    raise SystemExit('Bitcoind -chain=regtest is running!')"
   ]
  },
  {
   "cell_type": "code",
   "execution_count": null,
   "metadata": {},
   "outputs": [],
   "source": [
    "## Some function for convenient\n",
    "import datetime\n",
    "\n",
    "tz_seoul = datetime.timezone(datetime.timedelta(hours=9))\n",
    "tz_utc = datetime.timezone(datetime.timedelta())\n",
    "\n",
    "def get_time(timestamp):\n",
    "    return datetime.datetime.fromtimestamp(timestamp, tz=tz_seoul)"
   ]
  },
  {
   "cell_type": "code",
   "execution_count": null,
   "metadata": {},
   "outputs": [],
   "source": [
    "from bitcoinrpc.authproxy import AuthServiceProxy, JSONRPCException\n",
    "rpc_ip = '127.0.0.1'\n",
    "rpc_port = '8332'\n",
    "rpc_port_regtest = '18443'\n",
    "timeout = 300\n",
    "\n",
    "rpc_connection = AuthServiceProxy(f'http://{rpc_user}:{rpc_password}@{rpc_ip}:{rpc_port}', timeout=timeout)\n",
    "best_block_hash = rpc_connection.getbestblockhash()\n",
    "best_block = rpc_connection.getblock(best_block_hash)\n",
    "print(f'Best Main Block Heights: {best_block[\"height\"]}, Time: {get_time(best_block[\"time\"]).isoformat()}')"
   ]
  },
  {
   "cell_type": "markdown",
   "metadata": {},
   "source": [
    "### Flow\n",
    "1. Find address set by address apearance type\n",
    "  - Unlinked addresses\n",
    "  - Linked addresses"
   ]
  },
  {
   "cell_type": "code",
   "execution_count": null,
   "metadata": {},
   "outputs": [],
   "source": [
    "def get_balance(rpc_connection, v):\n",
    "    tx = rpc_connection.getrawtransaction(v['txid'], 1)\n",
    "    block = rpc_connection.getblock(tx['blockhash'])\n",
    "    addr = tx['vout'][v['vout']]['scriptPubKey']['addresses'][0]\n",
    "    height = block['height']\n",
    "    value = tx['vout'][v['vout']]['value']\n",
    "    return addr, height, value"
   ]
  },
  {
   "cell_type": "code",
   "execution_count": null,
   "metadata": {},
   "outputs": [],
   "source": [
    "# Input block\n",
    "sheight = int(input('Start block height: '))\n",
    "eheight = int(input('End block height: '))"
   ]
  },
  {
   "cell_type": "code",
   "execution_count": null,
   "metadata": {},
   "outputs": [],
   "source": [
    "%%time\n",
    "import time\n",
    "\n",
    "rpc_connection = AuthServiceProxy(f'http://{rpc_user}:{rpc_password}@{rpc_ip}:{rpc_port}', \n",
    "                                  timeout=timeout)\n",
    "\n",
    "base = list()\n",
    "\n",
    "time1 = time.time()\n",
    "for i in range(sheight, eheight+1):\n",
    "    tbase = list()\n",
    "    block_hash = rpc_connection.getblockhash(i)\n",
    "    block = rpc_connection.getblock(block_hash) # json\n",
    "    for txhash in block['tx'][1:]:\n",
    "        print(f'{i} block processing: {txhash}', end='\\r')\n",
    "        tx = rpc_connection.getrawtransaction(txhash, 1) # json => dict 연산 object 대상\n",
    "        for v in tx['vin']:\n",
    "            addr, height, value = get_balance(rpc_connection, v)\n",
    "            if not (sheight <= height <= eheight):\n",
    "                tbase.append((addr, value))\n",
    "    base.extend(tbase)\n",
    "    time2 = time.time()\n",
    "    print(f'[{round(time2-time1)}] {len(base)} from Reading {i} / {eheight} ({(i-sheight)/(eheight-sheight)*100}%)')\n",
    "    time1 = time2"
   ]
  },
  {
   "cell_type": "code",
   "execution_count": null,
   "metadata": {},
   "outputs": [],
   "source": [
    "# 578755 block processing: 3141d7e07774f6e9d2d9266bd2070d996b0ae946b464acd5dbe47007da4faf31\n",
    "# https://github.com/bitcoinjs/bitcoinjs-lib/issues/1000"
   ]
  }
 ],
 "metadata": {
  "kernelspec": {
   "display_name": "Bitcoin",
   "language": "python",
   "name": "bitcoin"
  },
  "language_info": {
   "codemirror_mode": {
    "name": "ipython",
    "version": 3
   },
   "file_extension": ".py",
   "mimetype": "text/x-python",
   "name": "python",
   "nbconvert_exporter": "python",
   "pygments_lexer": "ipython3",
   "version": "3.8.2"
  }
 },
 "nbformat": 4,
 "nbformat_minor": 4
}
