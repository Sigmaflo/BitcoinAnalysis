{
 "cells": [
  {
   "cell_type": "markdown",
   "metadata": {},
   "source": [
    "### Performance reports\n",
    "\n",
    "#### Vanila insert and commit\n",
    "- Block heights 0 to 621100: About 2 days (48 Hours)"
   ]
  },
  {
   "cell_type": "code",
   "execution_count": null,
   "metadata": {},
   "outputs": [],
   "source": [
    "# For secrets\n",
    "from secret import rpc_user, rpc_password"
   ]
  },
  {
   "cell_type": "code",
   "execution_count": null,
   "metadata": {},
   "outputs": [],
   "source": [
    "## Check the bitcoind running\n",
    "import os\n",
    "\n",
    "datadir = os.path.abspath(os.path.expanduser('~/.bitcoin'))\n",
    "pid_path = os.path.join(datadir, 'bitcoind.pid')\n",
    "if os.path.exists(pid_path):\n",
    "    with open(pid_path, 'r') as f:\n",
    "        print(f'Bitcoind PID: {f.read()}')\n",
    "else:\n",
    "    raise SystemExit('Bitcoind is running!')"
   ]
  },
  {
   "cell_type": "code",
   "execution_count": null,
   "metadata": {},
   "outputs": [],
   "source": [
    "## Some function for convenient\n",
    "import datetime\n",
    "\n",
    "tz_seoul = datetime.timezone(datetime.timedelta(hours=9))\n",
    "tz_utc = datetime.timezone(datetime.timedelta())\n",
    "\n",
    "def get_time(timestamp):\n",
    "    return datetime.datetime.fromtimestamp(timestamp, tz=tz_seoul)"
   ]
  },
  {
   "cell_type": "code",
   "execution_count": null,
   "metadata": {},
   "outputs": [],
   "source": [
    "# preparation database\n",
    "import sqlite3\n",
    "\n",
    "db_path = 'databases.db'\n",
    "conn = sqlite3.connect(db_path)\n",
    "cur = conn.cursor()\n",
    "\n",
    "def create_txhash_table():\n",
    "    cur.execute('''CREATE TABLE IF NOT EXISTS TxHash (\n",
    "                     txhash TEXT PRIMARY KEY,\n",
    "                     height INTEGER NOT NULL);\n",
    "                ''')\n",
    "\n",
    "def insert_txhash(txhash, height):\n",
    "    cur.execute(f'''INSERT OR REPLACE INTO TxHash (\n",
    "                   txhash, height) VALUES (\n",
    "                   \"{txhash}\", {height});\n",
    "                ''')\n",
    "    \n",
    "def begin_transactions():\n",
    "    cur.execute('BEGIN TRANSACTION;')\n",
    "\n",
    "def commit_transactions():\n",
    "    cur.execute('COMMIT;')\n",
    "    \n",
    "def insert_txhash_many(txhash, height):\n",
    "    cur.executemany('''INSERT OR REPLACE INTO TxHash (\n",
    "                       txhash, height) VALUES (\n",
    "                       ?, ?});\n",
    "                    ''', (txhash, height))\n",
    "\n",
    "def get_max_height():\n",
    "    cur.execute('''SELECT MAX(height) FROM TxHash;''')\n",
    "    return cur.fetchone()[0]"
   ]
  },
  {
   "cell_type": "code",
   "execution_count": null,
   "metadata": {},
   "outputs": [],
   "source": [
    "from bitcoinrpc.authproxy import AuthServiceProxy, JSONRPCException\n",
    "rpc_ip = '127.0.0.1'\n",
    "rpc_port = '8332'\n",
    "timeout = 300\n",
    "\n",
    "rpc_connection = AuthServiceProxy(f'http://{rpc_user}:{rpc_password}@{rpc_ip}:{rpc_port}', timeout=timeout)\n",
    "best_block_hash = rpc_connection.getbestblockhash()\n",
    "best_block = rpc_connection.getblock(best_block_hash)\n",
    "print(f'Best Block Heights: {best_block[\"height\"]}, Time: {get_time(best_block[\"time\"]).isoformat()}')"
   ]
  },
  {
   "cell_type": "code",
   "execution_count": null,
   "metadata": {},
   "outputs": [],
   "source": [
    "%%time\n",
    "import time\n",
    "\n",
    "create_txhash_table()\n",
    "conn.commit()\n",
    "\n",
    "start_height = get_max_height()\n",
    "if start_height is None:\n",
    "    start_height = 0\n",
    "print(f'Start from {start_height}')\n",
    "\n",
    "rpc_connection = AuthServiceProxy(f'http://{rpc_user}:{rpc_password}@{rpc_ip}:{rpc_port}', timeout=timeout)\n",
    "best_block_hash = rpc_connection.getbestblockhash()\n",
    "best_block = rpc_connection.getblock(best_block_hash)\n",
    "\n",
    "begin_transactions()\n",
    "time1 = time.time()\n",
    "for i in range(start_height, best_block[\"height\"]-99):\n",
    "    block_hash = rpc_connection.getblockhash(i)\n",
    "    block = rpc_connection.getblock(block_hash)\n",
    "    height = block['height']\n",
    "    for t in block['tx']:\n",
    "        insert_txhash(t, height)\n",
    "    if i % 1000 == 0:\n",
    "        commit_transactions()\n",
    "        begin_transactions()\n",
    "        time2 = time.time()\n",
    "        print(f'[{round(time2-time1)}] Reading {i} / {best_block[\"height\"]} ({i/best_block[\"height\"]*100}%)',\n",
    "              end='\\r')\n",
    "        time1 = time2\n",
    "commit_transactions()\n",
    "conn.close()\n",
    "print('')\n",
    "print(f'Query-reply done.')\n",
    "print(f'txhash heights: {i}')"
   ]
  }
 ],
 "metadata": {
  "kernelspec": {
   "display_name": "Bitcoin",
   "language": "python",
   "name": "bitcoin"
  },
  "language_info": {
   "codemirror_mode": {
    "name": "ipython",
    "version": 3
   },
   "file_extension": ".py",
   "mimetype": "text/x-python",
   "name": "python",
   "nbconvert_exporter": "python",
   "pygments_lexer": "ipython3",
   "version": "3.8.2"
  }
 },
 "nbformat": 4,
 "nbformat_minor": 4
}
