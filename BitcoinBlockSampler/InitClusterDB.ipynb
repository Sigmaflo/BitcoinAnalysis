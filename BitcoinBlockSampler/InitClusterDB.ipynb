{
 "cells": [
  {
   "cell_type": "code",
   "execution_count": null,
   "metadata": {},
   "outputs": [],
   "source": [
    "# preparation database\n",
    "import time\n",
    "import sqlite3\n",
    "\n",
    "dbpath = 'index.db'\n",
    "path = 'cluster.db'\n",
    "conn = sqlite3.connect(path)\n",
    "cur = conn.cursor()"
   ]
  },
  {
   "cell_type": "code",
   "execution_count": null,
   "metadata": {},
   "outputs": [],
   "source": [
    "def create_cluster_table():\n",
    "    cur.execute('''CREATE TABLE IF NOT EXISTS Cluster (\n",
    "                     addr INTEGER PRIMARY KEY,\n",
    "                     cluster NOT NULL);\n",
    "                ''')\n",
    "\n",
    "def init_clusters():\n",
    "    cur.execute('''INSERT INTO Cluster (addr, cluster)\n",
    "                   SELECT id, -1 FROM other.TxID ORDER BY id ASC;''')\n",
    "\n",
    "def attach_database():\n",
    "    cur.execute('''ATTACH DATABASE ? AS other;''', (dbpath,))\n",
    "    \n",
    "def begin_transactions():\n",
    "    cur.execute('BEGIN TRANSACTION;')\n",
    "\n",
    "def commit_transactions():\n",
    "    cur.execute('COMMIT;')\n",
    "    \n",
    "def journal_mode(mode):\n",
    "    sql = f'PRAGMA journal_mode = {mode}'\n",
    "    cur.execute(sql)\n",
    "    conn.commit()\n",
    "\n",
    "def synchronous(mode):\n",
    "    sql = f'PRAGMA synchronous = {mode}'\n",
    "    cur.execute(sql)\n",
    "    conn.commit()"
   ]
  },
  {
   "cell_type": "code",
   "execution_count": null,
   "metadata": {},
   "outputs": [],
   "source": [
    "create_cluster_table()"
   ]
  },
  {
   "cell_type": "code",
   "execution_count": null,
   "metadata": {},
   "outputs": [],
   "source": [
    "try:\n",
    "    synchronous('NORMAL')\n",
    "    journal_mode('WAL')\n",
    "    stime = time.time()\n",
    "    attach_database()\n",
    "    init_clusters()\n",
    "    commit_transactions()\n",
    "    etime = time.time()\n",
    "    print(f'Copy Job done during {etime-stime}')\n",
    "except KeyboardInterrupt:\n",
    "    print(f'KeyboardInterrupt detected. Commit transactions.')\n",
    "    try:\n",
    "        commit_transactions()\n",
    "    except sqlite3.OperationalError:\n",
    "        pass\n",
    "finally:\n",
    "    try:\n",
    "        commit_transactions()\n",
    "    except sqlite3.OperationalError:\n",
    "        pass\n",
    "    conn.close()"
   ]
  },
  {
   "cell_type": "code",
   "execution_count": null,
   "metadata": {},
   "outputs": [],
   "source": []
  }
 ],
 "metadata": {
  "kernelspec": {
   "display_name": "Bitcoin",
   "language": "python",
   "name": "bitcoin"
  },
  "language_info": {
   "codemirror_mode": {
    "name": "ipython",
    "version": 3
   },
   "file_extension": ".py",
   "mimetype": "text/x-python",
   "name": "python",
   "nbconvert_exporter": "python",
   "pygments_lexer": "ipython3",
   "version": "3.8.3"
  }
 },
 "nbformat": 4,
 "nbformat_minor": 4
}
