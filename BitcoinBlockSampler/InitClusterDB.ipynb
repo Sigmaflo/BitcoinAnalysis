{
 "cells": [
  {
   "cell_type": "code",
   "execution_count": null,
   "metadata": {},
   "outputs": [],
   "source": [
    "# preparation database\n",
    "import time\n",
    "import sqlite3\n",
    "\n",
    "dbpath = 'index.db'\n",
    "dbconn = sqlite3.connect(dbpath)\n",
    "dbcur = dbconn.cursor()\n",
    "\n",
    "path = 'cluster.db'\n",
    "conn = sqlite3.connect(path)\n",
    "cur = conn.cursor()"
   ]
  },
  {
   "cell_type": "code",
   "execution_count": null,
   "metadata": {},
   "outputs": [],
   "source": [
    "def create_cluster_table():\n",
    "    cur.execute('''CREATE TABLE IF NOT EXISTS Cluster (\n",
    "                     addr INTEGER PRIMARY KEY,\n",
    "                     cluster NOT NULL);\n",
    "                ''')\n",
    "\n",
    "def insert_clusters(clusters):\n",
    "    cur.executemany('''INSERT OR IGNORE INTO Cluster (\n",
    "                       addr, cluster) VALUES (\n",
    "                       ?, ?);\n",
    "                    ''', clusters)\n",
    "\n",
    "def begin_transactions():\n",
    "    cur.execute('BEGIN TRANSACTION;')\n",
    "\n",
    "def commit_transactions():\n",
    "    cur.execute('COMMIT;')\n",
    "    \n",
    "def journal_mode(mode):\n",
    "    sql = f'PRAGMA journal_mode = {mode}'\n",
    "    cur.execute(sql)\n",
    "    conn.commit()\n",
    "\n",
    "def synchronous(mode):\n",
    "    sql = f'PRAGMA synchronous = {mode}'\n",
    "    cur.execute(sql)\n",
    "    conn.commit()\n",
    "    \n",
    "def get_cluster_id_(f, t):\n",
    "    dbcur.execute('''SELECT id FROM TxID WHERE\n",
    "                     id BETWEEN ? AND ? \n",
    "                     ORDER BY id ASC;''', (f, t))\n",
    "    return dbcur.fetchall()\n",
    "\n",
    "def get_cluster_id(f, t):\n",
    "    dbcur.execute('''SELECT id, -1 FROM TxID WHERE\n",
    "                     id BETWEEN ? AND ? \n",
    "                     ORDER BY id ASC;''', (f, t))\n",
    "    return dbcur.fetchall()\n",
    "\n",
    "def get_max_id():\n",
    "    dbcur.execute('''SELECT MAX(id) FROM TxID;''')\n",
    "    return dbcur.fetchone()[0]"
   ]
  },
  {
   "cell_type": "code",
   "execution_count": null,
   "metadata": {},
   "outputs": [],
   "source": [
    "def init_cluster(record):\n",
    "    return record[0], -1"
   ]
  },
  {
   "cell_type": "code",
   "execution_count": null,
   "metadata": {},
   "outputs": [],
   "source": [
    "create_cluster_table()"
   ]
  },
  {
   "cell_type": "code",
   "execution_count": null,
   "metadata": {},
   "outputs": [],
   "source": [
    "sid = 1\n",
    "eid = int(get_max_id())\n",
    "term = 10000000\n",
    "print(f'Start from {sid} to {eid}')\n",
    "\n",
    "try:\n",
    "    synchronous('NORMAL')\n",
    "    journal_mode('WAL')\n",
    "    for s, e in zip(range(sid, eid, term), \n",
    "                    range(sid+term, eid+term, term)):\n",
    "        stime = time.time()\n",
    "        begin_transactions()\n",
    "        if e < eid:\n",
    "            e = e-1\n",
    "        data = list()\n",
    "        insert_clusters(get_cluster_id(s, e))\n",
    "        commit_transactions()\n",
    "        etime = time.time()\n",
    "        print(f'Copy Job done from {s} to {e} during {etime-stime}')\n",
    "except KeyboardInterrupt:\n",
    "    print(f'KeyboardInterrupt detected. Commit transactions.')\n",
    "    try:\n",
    "        commit_transactions()\n",
    "    except sqlite3.OperationalError:\n",
    "        pass\n",
    "finally:\n",
    "    try:\n",
    "        commit_transactions()\n",
    "    except sqlite3.OperationalError:\n",
    "        pass\n",
    "    dbconn.close()\n",
    "    conn.close()"
   ]
  },
  {
   "cell_type": "code",
   "execution_count": null,
   "metadata": {},
   "outputs": [],
   "source": []
  }
 ],
 "metadata": {
  "kernelspec": {
   "display_name": "Bitcoin",
   "language": "python",
   "name": "bitcoin"
  },
  "language_info": {
   "codemirror_mode": {
    "name": "ipython",
    "version": 3
   },
   "file_extension": ".py",
   "mimetype": "text/x-python",
   "name": "python",
   "nbconvert_exporter": "python",
   "pygments_lexer": "ipython3",
   "version": "3.8.3"
  }
 },
 "nbformat": 4,
 "nbformat_minor": 4
}
