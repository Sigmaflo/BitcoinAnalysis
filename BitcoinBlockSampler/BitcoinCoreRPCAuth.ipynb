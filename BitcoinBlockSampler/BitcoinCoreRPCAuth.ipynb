{
 "cells": [
  {
   "cell_type": "markdown",
   "metadata": {},
   "source": [
    "## Bitcoin core's RPC user credential creation source code\n",
    "- [Bitcoin Core Github](https://github.com/bitcoin/bitcoin)\n",
    "- [rpcuser](https://github.com/bitcoin/bitcoin/blob/master/share/rpcauth/rpcauth.py)\n",
    "  - I changed some point for running at Jupyter Lab (Notebook)\n",
    "\n",
    "### LISENSE\n",
    "- Copyright (c) 2015-2018 The Bitcoin Core developers\n",
    "- Distributed under the MIT software license, see the accompanying\n",
    "- file COPYING or http://www.opensource.org/licenses/mit-license.php."
   ]
  },
  {
   "cell_type": "code",
   "execution_count": null,
   "metadata": {},
   "outputs": [],
   "source": [
    "# Library setup\n",
    "from base64 import urlsafe_b64encode\n",
    "from binascii import hexlify\n",
    "from getpass import getpass\n",
    "from os import urandom\n",
    "import hmac"
   ]
  },
  {
   "cell_type": "code",
   "execution_count": null,
   "metadata": {},
   "outputs": [],
   "source": [
    "# Function defind\n",
    "def generate_salt(size):\n",
    "    \"\"\"Create size byte hex salt\"\"\"\n",
    "    return hexlify(urandom(size)).decode()\n",
    "\n",
    "def generate_password():\n",
    "    \"\"\"Create 32 byte b64 password\"\"\"\n",
    "    return urlsafe_b64encode(urandom(32)).decode('utf-8')\n",
    "\n",
    "def password_to_hmac(salt, password):\n",
    "    m = hmac.new(bytearray(salt, 'utf-8'), bytearray(password, 'utf-8'), 'SHA256')\n",
    "    return m.hexdigest()"
   ]
  },
  {
   "cell_type": "code",
   "execution_count": null,
   "metadata": {},
   "outputs": [],
   "source": [
    "username = input('Username: ')\n",
    "print('Password: ', end='')\n",
    "password = getpass()"
   ]
  },
  {
   "cell_type": "code",
   "execution_count": null,
   "metadata": {},
   "outputs": [],
   "source": [
    "if password == '':\n",
    "    password = generate_password()\n",
    "\n",
    "salt = generate_salt(16)\n",
    "password_hmac = password_to_hmac(salt, password)\n",
    "\n",
    "print('String to be appended to bitcoin.conf:')\n",
    "print(f'rpcauth={username}:{salt}${password_hmac}')\n",
    "print(f'Your username:\\n{username}')\n",
    "print(f'Your password:\\n{password}')\n",
    "print(f'If you want to use other source code in this repository then you shoud to create secret.py with rpcauth')\n",
    "print(f'String to be appended to secret.py:')\n",
    "print(f\"rpc_user = '{username}'\\nrpc_password = '{password}'\")"
   ]
  },
  {
   "cell_type": "code",
   "execution_count": null,
   "metadata": {},
   "outputs": [],
   "source": []
  }
 ],
 "metadata": {
  "kernelspec": {
   "display_name": "Bitcoin",
   "language": "python",
   "name": "bitcoin"
  },
  "language_info": {
   "codemirror_mode": {
    "name": "ipython",
    "version": 3
   },
   "file_extension": ".py",
   "mimetype": "text/x-python",
   "name": "python",
   "nbconvert_exporter": "python",
   "pygments_lexer": "ipython3",
   "version": "3.8.5"
  }
 },
 "nbformat": 4,
 "nbformat_minor": 4
}
