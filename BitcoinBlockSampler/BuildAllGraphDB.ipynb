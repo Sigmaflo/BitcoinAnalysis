{
 "cells": [
  {
   "cell_type": "code",
   "execution_count": null,
   "metadata": {},
   "outputs": [],
   "source": [
    "import sqlite3\n",
    "import time\n",
    "\n",
    "import igraph"
   ]
  },
  {
   "cell_type": "code",
   "execution_count": null,
   "metadata": {},
   "outputs": [],
   "source": [
    "index_db = 'index.db'\n",
    "index_conn = sqlite3.connect(f'file:{index_db}?mode=ro', uri=True)\n",
    "index_cur = index_conn.cursor()\n",
    "\n",
    "def get_node_count():\n",
    "    index_cur.execute('''SELECT MAX(id) FROM AddrId;''')\n",
    "    return index_cur.fetchone()[0]\n",
    "\n",
    "def get_edge_cursor():\n",
    "    index_cur.execute('''SELECT TxIn.addr, TxOut.addr\n",
    "                     FROM TxIn\n",
    "                     INNER JOIN TxOut ON TxIn.tx = TxOut.tx\n",
    "                     WHERE TxIn.addr != 0 AND TxOut.addr != 0;''')\n",
    "    return index_cur"
   ]
  },
  {
   "cell_type": "code",
   "execution_count": null,
   "metadata": {},
   "outputs": [],
   "source": [
    "stime = time.time()\n",
    "g = igraph.Graph()\n",
    "g.add_vertices(get_node_count())\n",
    "for s, d in get_edge_cursor:\n",
    "    g.add_edge(s, d)\n",
    "g.write_pickle('graph.igraph')\n",
    "etime = time.time()\n",
    "print(f'Load all graph during {etime-stime}')"
   ]
  },
  {
   "cell_type": "code",
   "execution_count": null,
   "metadata": {},
   "outputs": [],
   "source": [
    "index_conn.close()"
   ]
  },
  {
   "cell_type": "code",
   "execution_count": null,
   "metadata": {},
   "outputs": [],
   "source": []
  }
 ],
 "metadata": {
  "kernelspec": {
   "display_name": "Bitcoin",
   "language": "python",
   "name": "bitcoin"
  },
  "language_info": {
   "codemirror_mode": {
    "name": "ipython",
    "version": 3
   },
   "file_extension": ".py",
   "mimetype": "text/x-python",
   "name": "python",
   "nbconvert_exporter": "python",
   "pygments_lexer": "ipython3",
   "version": "3.8.3"
  }
 },
 "nbformat": 4,
 "nbformat_minor": 4
}
