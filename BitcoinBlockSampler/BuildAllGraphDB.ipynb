{
 "cells": [
  {
   "cell_type": "code",
   "execution_count": 1,
   "metadata": {},
   "outputs": [],
   "source": [
    "import sqlite3\n",
    "import time\n",
    "\n",
    "import igraph"
   ]
  },
  {
   "cell_type": "code",
   "execution_count": 2,
   "metadata": {},
   "outputs": [],
   "source": [
    "db = 'edge.db'\n",
    "conn = sqlite3.connect(f'file:{db}?mode=ro', uri=True)\n",
    "cur = conn.cursor()\n",
    "\n",
    "def get_edge_count():\n",
    "    cur.execute('''SELECT COUNT(*) FROM Edge;''')\n",
    "    return cur.fetchone()[0]\n",
    "\n",
    "def get_edge_cursor():\n",
    "    cur.execute('''SELECT src, dst, weight FROM Edge;''')\n",
    "    return cur"
   ]
  },
  {
   "cell_type": "code",
   "execution_count": 3,
   "metadata": {},
   "outputs": [
    {
     "name": "stdout",
     "output_type": "stream",
     "text": [
      "Construct graph done during 7.80655574798584\n"
     ]
    }
   ],
   "source": [
    "stime = time.time()\n",
    "g = igraph.Graph.TupleList(get_edge_cursor(), weights=True)\n",
    "etime = time.time()\n",
    "print(f'Construct graph done during {etime-stime}')"
   ]
  },
  {
   "cell_type": "code",
   "execution_count": 4,
   "metadata": {},
   "outputs": [
    {
     "name": "stdout",
     "output_type": "stream",
     "text": [
      "Graph Pickling Done Done during 6.5604870319366455\n"
     ]
    }
   ],
   "source": [
    "stime = time.time()\n",
    "g.write_pickle('graph.igraph')\n",
    "etime = time.time()\n",
    "print(f'Graph Pickling Done Done during {etime-stime}')"
   ]
  },
  {
   "cell_type": "code",
   "execution_count": null,
   "metadata": {},
   "outputs": [],
   "source": [
    "conn.close()"
   ]
  }
 ],
 "metadata": {
  "kernelspec": {
   "display_name": "Bitcoin",
   "language": "python",
   "name": "bitcoin"
  },
  "language_info": {
   "codemirror_mode": {
    "name": "ipython",
    "version": 3
   },
   "file_extension": ".py",
   "mimetype": "text/x-python",
   "name": "python",
   "nbconvert_exporter": "python",
   "pygments_lexer": "ipython3",
   "version": "3.8.3"
  }
 },
 "nbformat": 4,
 "nbformat_minor": 4
}
