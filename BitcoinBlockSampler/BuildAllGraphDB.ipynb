{
 "cells": [
  {
   "cell_type": "code",
   "execution_count": null,
   "metadata": {},
   "outputs": [],
   "source": [
    "import sqlite3\n",
    "import time\n",
    "\n",
    "import igraph"
   ]
  },
  {
   "cell_type": "code",
   "execution_count": null,
   "metadata": {},
   "outputs": [],
   "source": [
    "index_db = 'index.db'\n",
    "index_conn = sqlite3.connect(f'file:{index_db}?mode=ro', uri=True)\n",
    "index_cur = index_conn.cursor()\n",
    "\n",
    "def get_node_count():\n",
    "    index_cur.execute('''SELECT MAX(id) FROM AddrId;''')\n",
    "    return index_cur.fetchone()[0]\n",
    "\n",
    "def get_edge_count():\n",
    "    index_cur.execute('''SELECT COUNT(*)\n",
    "                     FROM TxIn\n",
    "                     INNER JOIN TxOut ON TxIn.tx = TxOut.tx\n",
    "                     WHERE TxIn.addr != 0 AND TxOut.addr != 0;''')\n",
    "    return index_cur.fetchone()[0]\n",
    "\n",
    "def get_edge_cursor():\n",
    "    index_cur.execute('''SELECT TxIn.addr, TxOut.addr, COUNT(TxIn.tx)\n",
    "                         FROM TxIn\n",
    "                         INNER JOIN TxOut ON TxIn.tx = TxOut.tx\n",
    "                         WHERE TxIn.addr != 0 AND TxOut.addr != 0\n",
    "                         GROUP BY TxIn.addr, TxOut.addr;''')\n",
    "    return index_cur"
   ]
  },
  {
   "cell_type": "code",
   "execution_count": null,
   "metadata": {},
   "outputs": [],
   "source": [
    "stime = time.time()\n",
    "g = igraph.Graph()\n",
    "g.add_vertices(get_node_count())\n",
    "etime = time.time()\n",
    "print(f'Add Nodes Done during {etime-stime}')"
   ]
  },
  {
   "cell_type": "code",
   "execution_count": null,
   "metadata": {},
   "outputs": [],
   "source": [
    "stime = time.time()\n",
    "now = 0\n",
    "edges = list()\n",
    "weights = list()\n",
    "for s, d, c in get_edge_cursor():\n",
    "    edges.append((s, d))\n",
    "    weights.append(c)\n",
    "    now = now + 1\n",
    "    print(f'{now:06d}', end='\\r')\n",
    "g.add_edges(edges)\n",
    "g.es['weight'] = weights\n",
    "etime = time.time()\n",
    "print(f'Add Edges Done during {etime-stime}')"
   ]
  },
  {
   "cell_type": "code",
   "execution_count": null,
   "metadata": {},
   "outputs": [],
   "source": [
    "stime = time.time()\n",
    "g.write_pickle('graph.igraph')\n",
    "etime = time.time()\n",
    "print(f'Graph Pickling Done Done during {etime-stime}')"
   ]
  },
  {
   "cell_type": "code",
   "execution_count": null,
   "metadata": {},
   "outputs": [],
   "source": [
    "index_conn.close()"
   ]
  }
 ],
 "metadata": {
  "kernelspec": {
   "display_name": "Bitcoin",
   "language": "python",
   "name": "bitcoin"
  },
  "language_info": {
   "codemirror_mode": {
    "name": "ipython",
    "version": 3
   },
   "file_extension": ".py",
   "mimetype": "text/x-python",
   "name": "python",
   "nbconvert_exporter": "python",
   "pygments_lexer": "ipython3",
   "version": "3.8.3"
  }
 },
 "nbformat": 4,
 "nbformat_minor": 4
}
