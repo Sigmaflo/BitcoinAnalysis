{
 "cells": [
  {
   "cell_type": "code",
   "execution_count": null,
   "metadata": {},
   "outputs": [],
   "source": [
    "import os\n",
    "import csv\n",
    "import sqlite3\n",
    "import itertools\n",
    "import time\n",
    "import math\n",
    "import statistics\n",
    "import collections\n",
    "\n",
    "import igraph\n",
    "import scipy.special\n",
    "\n",
    "# import matplotlib.pyplot as plt\n",
    "# # %matplotlib widget\n",
    "# %matplotlib inline"
   ]
  },
  {
   "cell_type": "code",
   "execution_count": null,
   "metadata": {},
   "outputs": [],
   "source": [
    "g = igraph.Graph.Read_Pickle(input('Input to read igraph pickle: ').strip())\n",
    "print(f'Nodes: {len(g.vs)}')\n",
    "print(f'Edges: {len(g.es)}')"
   ]
  },
  {
   "cell_type": "code",
   "execution_count": null,
   "metadata": {},
   "outputs": [],
   "source": [
    "## Check the bitcoind running\n",
    "import os\n",
    "\n",
    "datadir = os.path.abspath(os.path.expanduser('~/.bitcoin'))\n",
    "pid_path = os.path.join(datadir, 'bitcoind.pid')\n",
    "if os.path.exists(pid_path):\n",
    "    with open(pid_path, 'r') as f:\n",
    "        print(f'Bitcoind PID: {f.read()}')\n",
    "else:\n",
    "    raise SystemExit('Bitcoind is not running!')"
   ]
  },
  {
   "cell_type": "code",
   "execution_count": null,
   "metadata": {},
   "outputs": [],
   "source": [
    "# For secrets and Some library\n",
    "from secret import rpc_user, rpc_password\n",
    "from address_convertor import pubkey_to_address, get_pubkey\n",
    "from time_manager import get_time"
   ]
  },
  {
   "cell_type": "code",
   "execution_count": null,
   "metadata": {},
   "outputs": [],
   "source": [
    "from bitcoinrpc.authproxy import AuthServiceProxy, JSONRPCException\n",
    "rpc_ip = '127.0.0.1'\n",
    "rpc_port = '8332'\n",
    "timeout = 60*5\n",
    "\n",
    "def get_rpc():\n",
    "    return AuthServiceProxy(f'http://{rpc_user}:{rpc_password}@{rpc_ip}:{rpc_port}', timeout=timeout)\n",
    "\n",
    "rpc_connection = get_rpc()\n",
    "best_block_hash = rpc_connection.getbestblockhash()\n",
    "best_block = rpc_connection.getblock(best_block_hash)\n",
    "print(f'Best Block Heights: {best_block[\"height\"]}, Time: {get_time(best_block[\"time\"]).isoformat()}')"
   ]
  },
  {
   "cell_type": "code",
   "execution_count": null,
   "metadata": {},
   "outputs": [],
   "source": [
    "DEBUG = True\n",
    "TX = dict()\n",
    "\n",
    "# Load database\n",
    "path = 'file:index.db?mode=ro'\n",
    "conn = sqlite3.connect(path, uri=True)\n",
    "cur = conn.cursor()\n",
    "\n",
    "\n",
    "def get_txin_counts(indices):\n",
    "    counts = list()\n",
    "    for n in g.vs.select(indices):\n",
    "        name = n['name']\n",
    "        cur.execute('''SELECT COUNT(*) FROM TxIn WHERE addr = ?''', (name,))\n",
    "        tmp_result = cur.fetchone()\n",
    "        if tmp_result is not None:\n",
    "            counts.append(tmp_result[0])\n",
    "        else:\n",
    "            counts.append(0)\n",
    "    return counts\n",
    "\n",
    "\n",
    "def get_txout_counts(indices):\n",
    "    counts = list()\n",
    "    for n in g.vs.select(indices):\n",
    "        name = n['name']\n",
    "        cur.execute('''SELECT COUNT(*) FROM TxOut WHERE addr = ?''', (name,))\n",
    "        tmp_result = cur.fetchone()\n",
    "        if tmp_result is not None:\n",
    "            counts.append(tmp_result[0])\n",
    "        else:\n",
    "            counts.append(0)\n",
    "    return counts\n",
    "\n",
    "\n",
    "def get_in_values(g):\n",
    "    values = list()\n",
    "    cnt = 0\n",
    "    for v in g.vs:\n",
    "        name = v['name']\n",
    "        cur.execute('''SELECT TxID.txhash, TxOut.n FROM TxOut \n",
    "                           JOIN TxID ON TxOut.tx = TxID.id \n",
    "                       WHERE TxOut.addr = ?''', (name,))\n",
    "        value = 0\n",
    "        for txhash, n in cur:\n",
    "            if txhash in TX.keys():\n",
    "                tx = TX[txhash]\n",
    "            else:\n",
    "                tx = rpc_connection.getrawtransaction(txhash, 1)\n",
    "                TX[txhash] = tx\n",
    "            value += tx['vout'][n]['value']\n",
    "        values.append(value)\n",
    "        if DEBUG:\n",
    "            cnt += 1\n",
    "            print(f'[{cnt/len(g.vs):.2f}] {name} {value}', end='\\r')\n",
    "    return values\n",
    "\n",
    "\n",
    "def get_out_values(g):\n",
    "    values = list()\n",
    "    for v in g.vs:\n",
    "        name = v['name']\n",
    "        cur.execute('''SELECT TxID.txhash, TxIn.n FROM TxIn \n",
    "                           JOIN TxID ON TxIn.tx = TxID.id \n",
    "                       WHERE TxIn.addr = ?''', (name,))\n",
    "        value = 0\n",
    "        for txhash, n in cur:\n",
    "            if txhash in TX.keys():\n",
    "                tx = TX[txhash]\n",
    "            else:\n",
    "                tx = rpc_connection.getrawtransaction(txhash, 1)\n",
    "                TX[txhash] = tx\n",
    "            if tx['vin'][n]['txid'] in TX.keys():\n",
    "                ptx = TX[tx['vin'][n]['txid']]\n",
    "            else:\n",
    "                ptx = rpc_connection.getrawtransaction(tx['vin'][n]['txid'], 1)\n",
    "                TX[tx['vin'][n]['txid']] = ptx\n",
    "            value += ptx['vout'][tx['vin'][n]['vout']]['value']\n",
    "        values.append(value)\n",
    "        if DEBUG:\n",
    "            cnt += 1\n",
    "            print(f'[{cnt/len(g.vs):.2f}] {name} {value}', end='\\r')\n",
    "    return values\n",
    "\n",
    "\n",
    "def get_tx_count(g):\n",
    "    values = list()\n",
    "    for v in g.vs:\n",
    "        name = v['name']\n",
    "        value = 0\n",
    "        cur.execute('''SELECT COUNT(*) FROM TxIn\n",
    "                       WHERE TxIn.addr = ?''', (name,))\n",
    "        value += cur.fetchone()[0]\n",
    "        cur.execute('''SELECT COUNT(*) FROM TxOut\n",
    "                       WHERE TxOut.addr = ?''', (name,))\n",
    "        value += cur.fetchone()[0]\n",
    "        values.append(value)\n",
    "        if DEBUG:\n",
    "            cnt += 1\n",
    "            print(f'[{cnt/len(g.vs):.2f}] {name} {value}', end='\\r')\n",
    "    return values"
   ]
  },
  {
   "cell_type": "code",
   "execution_count": null,
   "metadata": {},
   "outputs": [],
   "source": [
    "stime = time.time()\n",
    "rpc_connection = get_rpc()\n",
    "in_values = get_in_values(g)\n",
    "etime = time.time()\n",
    "print(f'In values calculation during {etime-stime}')"
   ]
  },
  {
   "cell_type": "code",
   "execution_count": null,
   "metadata": {},
   "outputs": [],
   "source": [
    "stime = time.time()\n",
    "rpc_connection = get_rpc()\n",
    "out_values = get_out_values(g)\n",
    "etime = time.time()\n",
    "print(f'Out values calculation during {etime-stime}')"
   ]
  },
  {
   "cell_type": "code",
   "execution_count": null,
   "metadata": {},
   "outputs": [],
   "source": [
    "stime = time.time()\n",
    "rpc_connection = get_rpc()\n",
    "tx_count = get_tx_count(g)\n",
    "etime = time.time()\n",
    "print(f'Tx Count calculation during {etime-stime}')"
   ]
  },
  {
   "cell_type": "code",
   "execution_count": null,
   "metadata": {},
   "outputs": [],
   "source": [
    "stime = time.time()\n",
    "indegree = g.indegree()\n",
    "outdegree = g.outdegree()\n",
    "etime = time.time()\n",
    "print(f'Degree during {etime-stime}')"
   ]
  },
  {
   "cell_type": "code",
   "execution_count": null,
   "metadata": {},
   "outputs": [],
   "source": [
    "stime = time.time()\n",
    "pagerank = g.pagerank()\n",
    "etime = time.time()\n",
    "print(f'Pagerank during {etime-stime}')"
   ]
  },
  {
   "cell_type": "code",
   "execution_count": null,
   "metadata": {},
   "outputs": [],
   "source": [
    "import pickle\n",
    "with open('d.pickle', 'wb') as f:\n",
    "    pickle.dump(f, (in_values, out_values, indegree, outdegree, pagerank, tx_count))"
   ]
  },
  {
   "cell_type": "code",
   "execution_count": null,
   "metadata": {},
   "outputs": [],
   "source": [
    "# stime = time.time()\n",
    "# partition = g.community_leiden(objective_function='modularity')\n",
    "# etime = time.time()\n",
    "# print(f'{len(partition)} during {etime-stime}')"
   ]
  },
  {
   "cell_type": "code",
   "execution_count": null,
   "metadata": {},
   "outputs": [],
   "source": [
    "# l = [len(p) for p in partition if len(p) >= len(g.vs)*0.01]"
   ]
  },
  {
   "cell_type": "code",
   "execution_count": null,
   "metadata": {},
   "outputs": [],
   "source": [
    "# fig1 = plt.figure(figsize=(4, 4))\n",
    "# fig1.set_facecolor('white')\n",
    "# ax1 = fig1.add_subplot()\n",
    "# ax1.hist(l)\n",
    "# ax1.set_title('Histogram of cluster size', fontsize='large')\n",
    "# ax1.set_xlabel('Cluster size', fontsize='x-large')\n",
    "# ax1.set_ylabel('Cluster count', fontsize='x-large')\n",
    "# fig1.savefig('histogram.png')"
   ]
  },
  {
   "cell_type": "code",
   "execution_count": null,
   "metadata": {},
   "outputs": [],
   "source": [
    "# with open('meta.csv', 'w') as f:\n",
    "#     writer = csv.DictWriter(f, fieldnames=['ClusterSize', \n",
    "#                                            'TxInMean', 'TxInMedian', 'TxInStdev', 'TxInMin', 'TxInMax', \n",
    "#                                            'TxOutMean', 'TxOutMedian', 'TxOutStdev', 'TxOutMin', 'TxOutMax'])\n",
    "#     writer.writeheader()\n",
    "#     for i in range(0, len(partition)):\n",
    "#         p = partition[i]\n",
    "#         if len(p) < len(g.vs)*0.01:\n",
    "#             continue\n",
    "#         txin = get_txin_counts(p)\n",
    "#         txout = get_txout_counts(p)\n",
    "#         writer.writerow({'ClusterSize': len(p), \n",
    "#                          'TxInMean': statistics.mean(txin),\n",
    "#                          'TxInMedian': statistics.median(txin),\n",
    "#                          'TxInStdev': statistics.stdev(txin),\n",
    "#                          'TxInMin': min(txin),\n",
    "#                          'TxInMax': max(txin),\n",
    "#                          'TxOutMean': statistics.mean(txout),\n",
    "#                          'TxOutMedian': statistics.median(txout),\n",
    "#                          'TxOutStdev': statistics.stdev(txout),\n",
    "#                          'TxOutMin': min(txout),\n",
    "#                          'TxOutMax': max(txout)})"
   ]
  },
  {
   "cell_type": "code",
   "execution_count": null,
   "metadata": {},
   "outputs": [],
   "source": [
    "# stime = time.time()\n",
    "# rank = g.pagerank()\n",
    "# etime = time.time()\n",
    "# print(f'Max pagerank: {max(rank)} at {g.vs[rank.index(max(rank))][\"name\"]} during {etime-stime}')"
   ]
  },
  {
   "cell_type": "code",
   "execution_count": null,
   "metadata": {},
   "outputs": [],
   "source": [
    "# stime = time.time()\n",
    "# # https://stackoverflow.com/questions/37855553/python-igraph-community-cluster-colors\n",
    "# g2 = partition.cluster_graph(combine_vertices='random', combine_edges='sum')\n",
    "# g2.delete_vertices(g2.vs.select(_degree=0))\n",
    "# layout = g2.layout_drl()\n",
    "# igraph.plot(g2, 'partition.svg', layout=layout, vertex_size=5, edge_width=0.5)\n",
    "# etime = time.time()\n",
    "# print(f'Plotting done during {etime-stime}')"
   ]
  },
  {
   "cell_type": "code",
   "execution_count": null,
   "metadata": {},
   "outputs": [],
   "source": [
    "conn.close()"
   ]
  }
 ],
 "metadata": {
  "kernelspec": {
   "display_name": "Bitcoin",
   "language": "python",
   "name": "bitcoin"
  },
  "language_info": {
   "codemirror_mode": {
    "name": "ipython",
    "version": 3
   },
   "file_extension": ".py",
   "mimetype": "text/x-python",
   "name": "python",
   "nbconvert_exporter": "python",
   "pygments_lexer": "ipython3",
   "version": "3.8.3"
  }
 },
 "nbformat": 4,
 "nbformat_minor": 4
}
