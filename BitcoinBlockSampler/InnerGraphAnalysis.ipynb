{
 "cells": [
  {
   "cell_type": "code",
   "execution_count": null,
   "metadata": {},
   "outputs": [],
   "source": [
    "import os\n",
    "import csv\n",
    "import sqlite3\n",
    "import itertools\n",
    "import time\n",
    "import math\n",
    "import collections\n",
    "\n",
    "import igraph\n",
    "import scipy.special\n",
    "\n",
    "import matplotlib.pylab as plt\n",
    "# %matplotlib widget\n",
    "%matplotlib inline"
   ]
  },
  {
   "cell_type": "code",
   "execution_count": null,
   "metadata": {},
   "outputs": [],
   "source": [
    "g = igraph.Graph.Read_Pickle(input('Input to read igraph pickle: ').strip())"
   ]
  },
  {
   "cell_type": "code",
   "execution_count": null,
   "metadata": {},
   "outputs": [],
   "source": [
    "stime = time.time()\n",
    "partition = g.community_leiden(objective_function='modularity')\n",
    "etime = time.time()\n",
    "print(f'{len(partition)} during {etime-stime}')"
   ]
  },
  {
   "cell_type": "code",
   "execution_count": null,
   "metadata": {},
   "outputs": [],
   "source": [
    "l = [len(p) for p in partition if len(p) > 9]"
   ]
  },
  {
   "cell_type": "code",
   "execution_count": null,
   "metadata": {},
   "outputs": [],
   "source": [
    "fig1 = plt.figure(figsize=(4, 4))\n",
    "fig1.set_facecolor('white')\n",
    "ax1 = fig1.add_subplot()\n",
    "ax1.hist(l)\n",
    "ax1.set_title('Histogram of cluster size', fontsize='large')\n",
    "ax1.set_xlabel('Cluster size', fontsize='x-large')\n",
    "ax1.set_ylabel('Cluster count', fontsize='x-large')"
   ]
  },
  {
   "cell_type": "code",
   "execution_count": null,
   "metadata": {},
   "outputs": [],
   "source": [
    "# Load database\n",
    "path = 'file:index.db?mode=ro'\n",
    "conn = sqlite3.connect(path, uri=True)\n",
    "cur = conn.cursor()\n",
    "\n",
    "\n",
    "def get_txin_counts(indices):\n",
    "    counts = 0\n",
    "    for n in g.vs.select(indices):\n",
    "        name = n['name']\n",
    "        cur.execute('''SELECT COUNT(*) FROM TxIn WHERE addr = ?''', (name,))\n",
    "        tmp_result = cur.fetchone()\n",
    "        if tmp_result is not None:\n",
    "            counts = counts + tmp_result[0]\n",
    "    return counts\n",
    "\n",
    "\n",
    "def get_txout_counts(indices):\n",
    "    counts = 0\n",
    "    for n in g.vs.select(indices):\n",
    "        name = n['name']\n",
    "        cur.execute('''SELECT COUNT(*) FROM TxOut WHERE addr = ?''', (name,))\n",
    "        tmp_result = cur.fetchone()\n",
    "        if tmp_result is not None:\n",
    "            counts = counts + tmp_result[0]\n",
    "    return counts"
   ]
  },
  {
   "cell_type": "code",
   "execution_count": null,
   "metadata": {},
   "outputs": [],
   "source": [
    "for i in range(0, len(partition)):\n",
    "    p = partition[i]\n",
    "    if len(p) == 1:\n",
    "        continue\n",
    "    print(f'Cluster Size: {len(p):>5d}', end=' ')\n",
    "    print(f'TxIn: {get_txin_counts(p) / len(p):13.10f}', end=' ')\n",
    "    print(f'TxOut: {get_txout_counts(p) / len(p):13.10f}')"
   ]
  },
  {
   "cell_type": "code",
   "execution_count": null,
   "metadata": {},
   "outputs": [],
   "source": [
    "stime = time.time()\n",
    "rank = g.pagerank()\n",
    "etime = time.time()\n",
    "print(f'Max pagerank: {max(rank)} at {g.vs[rank.index(max(rank))][\"name\"]} during {etime-stime}')"
   ]
  },
  {
   "cell_type": "code",
   "execution_count": null,
   "metadata": {},
   "outputs": [],
   "source": [
    "stime = time.time()\n",
    "g2 = partition.cluster_graph(combine_vertices='random', combine_edges='sum')\n",
    "g2.delete_vertices(g2.vs.select(_degree=0))\n",
    "layout = g2.layout_drl()\n",
    "igraph.plot(g2, 'partition.svg', layout=layout, vertex_size=5, edge_width=0.5, edge_color='red')\n",
    "etime = time.time()\n",
    "print(f'Plotting done during {etime-stime}')"
   ]
  },
  {
   "cell_type": "code",
   "execution_count": null,
   "metadata": {},
   "outputs": [],
   "source": []
  }
 ],
 "metadata": {
  "kernelspec": {
   "display_name": "Bitcoin",
   "language": "python",
   "name": "bitcoin"
  },
  "language_info": {
   "codemirror_mode": {
    "name": "ipython",
    "version": 3
   },
   "file_extension": ".py",
   "mimetype": "text/x-python",
   "name": "python",
   "nbconvert_exporter": "python",
   "pygments_lexer": "ipython3",
   "version": "3.8.3"
  }
 },
 "nbformat": 4,
 "nbformat_minor": 4
}
