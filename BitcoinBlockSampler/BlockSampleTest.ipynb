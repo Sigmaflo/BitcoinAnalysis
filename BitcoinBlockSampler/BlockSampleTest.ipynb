{
 "cells": [
  {
   "cell_type": "markdown",
   "metadata": {},
   "source": [
    "### Bitcoin block sampler\n",
    "[Bitcoin core RPC API](https://en.bitcoin.it/wiki/Original_Bitcoin_client/API_calls_list)\n",
    "\n",
    "#### Operation ordering\n"
   ]
  },
  {
   "cell_type": "code",
   "execution_count": null,
   "metadata": {},
   "outputs": [],
   "source": [
    "# For secrets\n",
    "from secret import rpc_user, rpc_password"
   ]
  },
  {
   "cell_type": "code",
   "execution_count": null,
   "metadata": {},
   "outputs": [],
   "source": [
    "## Check the bitcoind running\n",
    "import os\n",
    "\n",
    "datadir = os.path.abspath(os.path.expanduser('~/.bitcoin'))\n",
    "pid_path = os.path.join(datadir, 'bitcoind.pid')\n",
    "if os.path.exists(pid_path):\n",
    "    with open(pid_path, 'r') as f:\n",
    "        print(f'Bitcoind PID: {f.read()}')\n",
    "else:\n",
    "    raise SystemExit('Bitcoind is running!')"
   ]
  },
  {
   "cell_type": "code",
   "execution_count": null,
   "metadata": {},
   "outputs": [],
   "source": [
    "## Some function for convenient\n",
    "import datetime\n",
    "\n",
    "tz_seoul = datetime.timezone(datetime.timedelta(hours=9))\n",
    "tz_utc = datetime.timezone(datetime.timedelta())\n",
    "\n",
    "def get_time(timestamp):\n",
    "    return datetime.datetime.fromtimestamp(timestamp, tz=tz_seoul)"
   ]
  },
  {
   "cell_type": "code",
   "execution_count": null,
   "metadata": {},
   "outputs": [],
   "source": [
    "from bitcoinrpc.authproxy import AuthServiceProxy, JSONRPCException\n",
    "rpc_ip = '127.0.0.1'\n",
    "rpc_port = '8332'\n",
    "\n",
    "rpc_connection = AuthServiceProxy(f'http://{rpc_user}:{rpc_password}@{rpc_ip}:{rpc_port}')\n",
    "best_block_hash = rpc_connection.getbestblockhash()\n",
    "best_block = rpc_connection.getblock(best_block_hash)\n",
    "print(f'Best Block Heights: {best_block[\"height\"]}, Time: {get_time(best_block[\"time\"]).isoformat()}')\n",
    "# commands = [ ['getblockhash', height] for height in range(619300, 619317) ]\n",
    "# block_hashes = rpc_connection.batch_(commands)\n",
    "# import pprint\n",
    "# pprint.pprint(block_hashes)"
   ]
  },
  {
   "cell_type": "code",
   "execution_count": null,
   "metadata": {},
   "outputs": [],
   "source": [
    "%%time\n",
    "rpc_connection = AuthServiceProxy(f'http://{rpc_user}:{rpc_password}@{rpc_ip}:{rpc_port}')\n",
    "best_block_hash = rpc_connection.getbestblockhash()\n",
    "best_block = rpc_connection.getblock(best_block_hash)\n",
    "\n",
    "sheight = float('inf')\n",
    "eheight = 0\n",
    "\n",
    "start = datetime.datetime(2018, 1, 1, 0, 0, 0, tzinfo=tz_utc)\n",
    "end = datetime.datetime(2018, 12, 31, 23, 59, 59, tzinfo=tz_utc)\n",
    "\n",
    "bi = 0\n",
    "term = 1000\n",
    "for i in range(term, best_block[\"height\"]+term, term):\n",
    "    i = min(best_block['height']+1, i)\n",
    "    commands = [ ['getblockhash', height] for height in range(bi, i) ]\n",
    "    block_hashes = rpc_connection.batch_(commands)\n",
    "    commands = [ ['getblock', h] for h in block_hashes ]\n",
    "    blocks = rpc_connection.batch_(commands)\n",
    "    ntx = [ block['nTx'] for block in blocks ]\n",
    "\n",
    "    for block in blocks:\n",
    "        if get_time(block['time']) < start:\n",
    "            continue\n",
    "        elif get_time(block['time']) > end:\n",
    "            continue\n",
    "        if sheight > block['height']:\n",
    "            sheight = block['height']\n",
    "        if eheight < block['height']:\n",
    "            eheight = block['height']\n",
    "    bi = i\n",
    "    print(f'Reading {i} / {best_block[\"height\"]} ({i/best_block[\"height\"]*100}%)', end='\\r')\n",
    "print('')\n",
    "print(f'Query-reply done.')\n",
    "print(f'Start height: {sheight}, End height: {eheight}')"
   ]
  },
  {
   "cell_type": "markdown",
   "metadata": {},
   "source": [
    "#### 2018. 01. 01. 00. 00. 00. ~ 2018. 12. 31. 23. 59. 59. UST\n",
    "- Reading 619329 / 619328 (100.00016146533017%)\n",
    "- Query-reply done.\n",
    "- Start height: 501961, End height: 556458\n",
    "- CPU times: user 2min 18s, sys: 45.3 s, total: 3min 3s\n",
    "- Wall time: 51min 26s\n",
    "\n",
    "#### 2018. 01. 01. 0. 0. 0 ~ 2018. 12. 31. 23. 59. 59 KTC\n",
    "- Start height: 501904\n",
    "- End height: 556402\n"
   ]
  }
 ],
 "metadata": {
  "kernelspec": {
   "display_name": "Bitcoin",
   "language": "python",
   "name": "bitcoin"
  },
  "language_info": {
   "codemirror_mode": {
    "name": "ipython",
    "version": 3
   },
   "file_extension": ".py",
   "mimetype": "text/x-python",
   "name": "python",
   "nbconvert_exporter": "python",
   "pygments_lexer": "ipython3",
   "version": "3.8.2"
  }
 },
 "nbformat": 4,
 "nbformat_minor": 4
}
