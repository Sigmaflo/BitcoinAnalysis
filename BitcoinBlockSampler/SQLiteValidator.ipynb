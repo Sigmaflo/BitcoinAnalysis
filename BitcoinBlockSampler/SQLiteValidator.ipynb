{
 "cells": [
  {
   "cell_type": "code",
   "execution_count": null,
   "metadata": {},
   "outputs": [],
   "source": [
    "# For secrets\n",
    "from secret import rpc_user, rpc_password"
   ]
  },
  {
   "cell_type": "code",
   "execution_count": null,
   "metadata": {},
   "outputs": [],
   "source": [
    "## Check the bitcoind running\n",
    "import os\n",
    "\n",
    "datadir = os.path.abspath(os.path.expanduser('~/.bitcoin'))\n",
    "pid_path = os.path.join(datadir, 'bitcoind.pid')\n",
    "if os.path.exists(pid_path):\n",
    "    with open(pid_path, 'r') as f:\n",
    "        print(f'Bitcoind PID: {f.read()}')\n",
    "else:\n",
    "    raise SystemExit('Bitcoind is not running!')"
   ]
  },
  {
   "cell_type": "code",
   "execution_count": null,
   "metadata": {},
   "outputs": [],
   "source": [
    "## Some library\n",
    "from address_convertor import pubkey_to_address, get_pubkey\n",
    "from time_manager import get_time"
   ]
  },
  {
   "cell_type": "code",
   "execution_count": null,
   "metadata": {},
   "outputs": [],
   "source": [
    "from bitcoinrpc.authproxy import AuthServiceProxy, JSONRPCException\n",
    "rpc_ip = '127.0.0.1'\n",
    "rpc_port = '8332'\n",
    "timeout = 60*5\n",
    "\n",
    "def get_rpc():\n",
    "    return AuthServiceProxy(f'http://{rpc_user}:{rpc_password}@{rpc_ip}:{rpc_port}', timeout=timeout)\n",
    "\n",
    "rpc_connection = get_rpc()\n",
    "best_block_hash = rpc_connection.getbestblockhash()\n",
    "best_block = rpc_connection.getblock(best_block_hash)\n",
    "print(f'Best Block Heights: {best_block[\"height\"]}, Time: {get_time(best_block[\"time\"]).isoformat()}')"
   ]
  },
  {
   "cell_type": "code",
   "execution_count": null,
   "metadata": {},
   "outputs": [],
   "source": [
    "def get_data(theight):\n",
    "    blks = list()\n",
    "    txes = list()\n",
    "    addrs = list()\n",
    "    block_hash = rpc_connection.getblockhash(theight)\n",
    "    block = rpc_connection.getblock(block_hash, 2)\n",
    "    blks.append(block_hash)\n",
    "    for tx in block['tx']:\n",
    "        txes.append(tx['txid']) # IMPORTRANT! We should to use txid not hash\n",
    "        n = -1\n",
    "        for vout in tx['vout']:\n",
    "            n = n + 1\n",
    "            if vout['scriptPubKey']['type'] in ('pubkeyhash', 'scripthash', \n",
    "                                                'witness_v0_keyhash', 'witness_v0_scripthash',\n",
    "                                                'witness_unknown', 'multisig'):\n",
    "                for addr in vout['scriptPubKey']['addresses']:\n",
    "                    addrs.append(addr)\n",
    "            elif vout['scriptPubKey']['type'] in ('pubkey', 'nonstandard', 'nulldata'):\n",
    "                try:\n",
    "                    for addr in [pubkey_to_address(get_pubkey(vout['scriptPubKey']['hex']))]:\n",
    "                        addrs.append(addr)\n",
    "                except UnboundLocalError:\n",
    "                    for addr in [f'{tx[\"txid\"]}{n}']:\n",
    "                        addrs.append(addr)\n",
    "            else:\n",
    "                raise SystemExit(f'BUG!! {theight}\\n{tx}\\n{vout}')\n",
    "    return blks, txes, addrs"
   ]
  },
  {
   "cell_type": "code",
   "execution_count": null,
   "metadata": {},
   "outputs": [],
   "source": [
    "val_data = './val_data' # default\n",
    "val_root = os.path.abspath(os.path.expanduser(val_data))\n",
    "os.makedirs(val_root, exist_ok=True)"
   ]
  },
  {
   "cell_type": "code",
   "execution_count": null,
   "metadata": {},
   "outputs": [],
   "source": [
    "import time\n",
    "import json\n",
    "\n",
    "buffer = 1000\n",
    "start_height = 0\n",
    "end_height = (best_block['height']//buffer-1)*buffer\n",
    "\n",
    "rpc_connection = get_rpc()\n",
    "stime = time.time()\n",
    "for height in range(start_height, end_height+1):\n",
    "    result = get_data(height)\n",
    "    data = {'blkhash': result[0],\n",
    "            'txid': result[1],\n",
    "            'addr': result[2]}\n",
    "    path_dir = os.path.join(val_root, f'{height//buffer*buffer}')\n",
    "    os.makedirs(path_dir, exist_ok=True)\n",
    "    path = os.path.join(path_dir, f'{height}.json')\n",
    "    try:\n",
    "        with open(path, 'w') as f:\n",
    "            json.dump(data, f)\n",
    "    except KeyboardInterrupt:\n",
    "        with open(path, 'w') as f:\n",
    "            json.dump(data, f)\n",
    "        break\n",
    "    if height%buffer == 0:\n",
    "        etime = time.time()\n",
    "        print(f'{height} Done: {etime-stime}')\n",
    "        stime = time.time()"
   ]
  },
  {
   "cell_type": "code",
   "execution_count": null,
   "metadata": {},
   "outputs": [],
   "source": []
  }
 ],
 "metadata": {
  "kernelspec": {
   "display_name": "Bitcoin",
   "language": "python",
   "name": "bitcoin"
  },
  "language_info": {
   "codemirror_mode": {
    "name": "ipython",
    "version": 3
   },
   "file_extension": ".py",
   "mimetype": "text/x-python",
   "name": "python",
   "nbconvert_exporter": "python",
   "pygments_lexer": "ipython3",
   "version": "3.8.3"
  }
 },
 "nbformat": 4,
 "nbformat_minor": 4
}
