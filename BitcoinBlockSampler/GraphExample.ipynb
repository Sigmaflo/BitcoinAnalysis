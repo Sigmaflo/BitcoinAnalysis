{
 "cells": [
  {
   "cell_type": "code",
   "execution_count": null,
   "metadata": {},
   "outputs": [],
   "source": [
    "import os\n",
    "import csv\n",
    "import sqlite3\n",
    "\n",
    "import igraph"
   ]
  },
  {
   "cell_type": "code",
   "execution_count": null,
   "metadata": {},
   "outputs": [],
   "source": [
    "path = os.path.abspath(os.path.expanduser(input('Read to csv file: ').strip()))"
   ]
  },
  {
   "cell_type": "code",
   "execution_count": null,
   "metadata": {},
   "outputs": [],
   "source": [
    "dbpath = 'index.db'\n",
    "conn = sqlite3.connect(dbpath)\n",
    "cur = conn.cursor()\n",
    "\n",
    "def get_blkid(blkhash):\n",
    "    cur.execute('''SELECT id FROM BlkID WHERE blkhash = ?''', (blkhash,))\n",
    "    return cur.fetchone()[0]\n",
    "    \n",
    "def get_txid(txhash):\n",
    "    cur.execute('''SELECT id FROM TxID WHERE txhash = ?''', (txhash,))\n",
    "    return cur.fetchone()[0]\n",
    "    \n",
    "def get_addrid(addr):\n",
    "    cur.execute('''SELECT id FROM AddrID WHERE addr = ?''', (addr,))\n",
    "    return cur.fetchone()[0]\n",
    "\n",
    "def get_txins(addr):\n",
    "    cur.execute('''SELECT tx FROM TxIn WHERE addr = ?''', (addr,))\n",
    "    return cur.fetchall()\n",
    "\n",
    "def get_txouts(addr):\n",
    "    cur.execute('''SELECT tx FROM TxOut WHERE addr = ?''', (addr,))\n",
    "    return cur.fetchall()\n",
    "\n",
    "def get_tx(saddr, daddr):\n",
    "    cur.execute('''SELECT tx FROM TxIn WHERE addr = ?\n",
    "                   INTERSECT\n",
    "                   SELECT tx FROM TxOut WHERE addr = ?;''', (saddr, daddr))\n",
    "    r = cur.fetchone()\n",
    "    if r is not None:\n",
    "        return True\n",
    "    return False"
   ]
  },
  {
   "cell_type": "code",
   "execution_count": null,
   "metadata": {},
   "outputs": [],
   "source": [
    "nodes = list()\n",
    "with open(path, 'r') as f:\n",
    "    reader = csv.DictReader(f)\n",
    "    for row in reader:\n",
    "        addrid = get_addrid(row['Address'])\n",
    "        nodes.append(addrid)"
   ]
  },
  {
   "cell_type": "code",
   "execution_count": null,
   "metadata": {},
   "outputs": [],
   "source": [
    "edges = list()\n",
    "for s in nodes:\n",
    "    for d in nodes:\n",
    "        if get_tx(s, d):\n",
    "            edges.append((s, d))\n",
    "            print(f'Edge {s} - {d}', end='\\r')"
   ]
  },
  {
   "cell_type": "code",
   "execution_count": null,
   "metadata": {},
   "outputs": [],
   "source": [
    "import time\n",
    "stime = time.time()\n",
    "partition = g.community_leiden(objective_function='modularity')\n",
    "etime = time.time()\n",
    "size = len(partition)\n",
    "print(f'{size} {etime-stime}')"
   ]
  }
 ],
 "metadata": {
  "kernelspec": {
   "display_name": "Bitcoin",
   "language": "python",
   "name": "bitcoin"
  },
  "language_info": {
   "codemirror_mode": {
    "name": "ipython",
    "version": 3
   },
   "file_extension": ".py",
   "mimetype": "text/x-python",
   "name": "python",
   "nbconvert_exporter": "python",
   "pygments_lexer": "ipython3",
   "version": "3.8.3"
  }
 },
 "nbformat": 4,
 "nbformat_minor": 4
}
