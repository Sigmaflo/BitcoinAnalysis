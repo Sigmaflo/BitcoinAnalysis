{
 "cells": [
  {
   "cell_type": "code",
   "execution_count": null,
   "metadata": {},
   "outputs": [],
   "source": [
    "import os\n",
    "import csv\n",
    "import sqlite3\n",
    "import itertools\n",
    "import time\n",
    "\n",
    "import igraph\n",
    "import scipy.special"
   ]
  },
  {
   "cell_type": "code",
   "execution_count": null,
   "metadata": {},
   "outputs": [],
   "source": [
    "path = os.path.abspath(os.path.expanduser(input('Read to csv file: ').strip()))"
   ]
  },
  {
   "cell_type": "code",
   "execution_count": null,
   "metadata": {},
   "outputs": [],
   "source": [
    "dbpath = 'index.db'\n",
    "conn = sqlite3.connect(dbpath)\n",
    "cur = conn.cursor()\n",
    "\n",
    "def get_blkid(blkhash):\n",
    "    cur.execute('''SELECT id FROM BlkID WHERE blkhash = ?''', (blkhash,))\n",
    "    return cur.fetchone()[0]\n",
    "    \n",
    "def get_txid(txhash):\n",
    "    cur.execute('''SELECT id FROM TxID WHERE txhash = ?''', (txhash,))\n",
    "    return cur.fetchone()[0]\n",
    "    \n",
    "def get_addrid(addr):\n",
    "    cur.execute('''SELECT id FROM AddrID WHERE addr = ?''', (addr,))\n",
    "    return cur.fetchone()[0]\n",
    "\n",
    "def get_txins(addr):\n",
    "    cur.execute('''SELECT tx FROM TxIn WHERE addr = ?''', (addr,))\n",
    "    return cur.fetchall()\n",
    "\n",
    "def get_txouts(addr):\n",
    "    cur.execute('''SELECT tx FROM TxOut WHERE addr = ?''', (addr,))\n",
    "    return cur.fetchall()\n",
    "\n",
    "def get_tx(saddr, daddr):\n",
    "    cur.execute('''SELECT tx FROM TxIn WHERE addr = ?\n",
    "                   INTERSECT\n",
    "                   SELECT tx FROM TxOut WHERE addr = ?;''', (saddr, daddr))\n",
    "    r = cur.fetchone()\n",
    "    if r is not None:\n",
    "        return True\n",
    "    return False"
   ]
  },
  {
   "cell_type": "code",
   "execution_count": null,
   "metadata": {},
   "outputs": [],
   "source": [
    "nodes = list()\n",
    "with open(path, 'r') as f:\n",
    "    reader = csv.DictReader(f)\n",
    "    for row in reader:\n",
    "        addrid = get_addrid(row['Address'])\n",
    "        nodes.append(addrid)\n",
    "print(f'Nodes: {len(nodes)}')"
   ]
  },
  {
   "cell_type": "code",
   "execution_count": null,
   "metadata": {},
   "outputs": [],
   "source": [
    "def get_edge_nominators(nodes):\n",
    "    for s, d in itertools.combinations(nodes, 2):\n",
    "        yield (s, d)\n",
    "\n",
    "def get_edges(args):\n",
    "    s = args[0]\n",
    "    d = args[1]\n",
    "    if get_tx(s, d):\n",
    "        return (s, d, True)\n",
    "    else:\n",
    "        return (s, d, False)"
   ]
  },
  {
   "cell_type": "code",
   "execution_count": null,
   "metadata": {},
   "outputs": [],
   "source": [
    "import multiprocessing\n",
    "\n",
    "pool_num = multiprocessing.cpu_count()\n",
    "\n",
    "edges = list()\n",
    "cnt = 0\n",
    "last = int(scipy.special.comb(len(nodes), 2))\n",
    "stime = time.time()\n",
    "with multiprocessing.Pool(pool_num) as p:\n",
    "    results = p.imap_unordered(get_edges, get_edge_nominators(nodes))\n",
    "    for s, d, b in results:\n",
    "        cnt = cnt + 1\n",
    "        print(f'[{cnt/last*100:.5f}% : {len(edges)} : {time.time()-stime:.1f}] {s} x {d} ', end='\\r')\n",
    "        if b:\n",
    "            edges.append((s, d))\n",
    "            print(f'[{cnt/last*100:.5f} : {len(edges)} : {time.time()-stime:.1f}] {s} - {d}')"
   ]
  },
  {
   "cell_type": "code",
   "execution_count": null,
   "metadata": {},
   "outputs": [],
   "source": [
    "g = igraph.Graph()\n",
    "g.add_vertices(nodes)\n",
    "g.add_edges(edges)\n",
    "g.write_pickle('graph.igraph')"
   ]
  },
  {
   "cell_type": "code",
   "execution_count": null,
   "metadata": {},
   "outputs": [],
   "source": [
    "stime = time.time()\n",
    "partition = g.community_leiden(objective_function='modularity')\n",
    "etime = time.time()\n",
    "size = len(partition)\n",
    "print(f'{size} {etime-stime}')"
   ]
  },
  {
   "cell_type": "code",
   "execution_count": null,
   "metadata": {},
   "outputs": [],
   "source": [
    "layout = g.layout_drl()\n",
    "igraph.plot(g, 'graph.svg', layout=layout)"
   ]
  },
  {
   "cell_type": "code",
   "execution_count": null,
   "metadata": {},
   "outputs": [],
   "source": []
  }
 ],
 "metadata": {
  "kernelspec": {
   "display_name": "Bitcoin",
   "language": "python",
   "name": "bitcoin"
  },
  "language_info": {
   "codemirror_mode": {
    "name": "ipython",
    "version": 3
   },
   "file_extension": ".py",
   "mimetype": "text/x-python",
   "name": "python",
   "nbconvert_exporter": "python",
   "pygments_lexer": "ipython3",
   "version": "3.8.3"
  }
 },
 "nbformat": 4,
 "nbformat_minor": 4
}
