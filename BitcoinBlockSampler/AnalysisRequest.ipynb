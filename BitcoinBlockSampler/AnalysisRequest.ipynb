{
 "cells": [
  {
   "cell_type": "code",
   "execution_count": null,
   "metadata": {},
   "outputs": [],
   "source": [
    "import sqlite3\n",
    "\n",
    "db = 'dbv3-core.db'\n",
    "conn = sqlite3.connect(f'file:{db}?mode=ro', uri=True)\n",
    "cur = conn.cursor()\n",
    "\n",
    "cur.execute('''ATTACH DATABASE 'dbv3-index.db' AS DBINDEX;''')\n",
    "\n",
    "QUERY = '''\n",
    "SELECT DISTINCT DBINDEX.AddrID.addr, DBINDEX.TxID.txid\n",
    "FROM TxIn\n",
    "INNER JOIN TxOut ON TxIn.ptx = TxOut.tx AND TxIn.pn = TxOut.n\n",
    "INNER JOIN DBINDEX.TxID ON DBINDEX.TxID.id = TxOut.tx\n",
    "INNER JOIN DBINDEX.AddrID ON DBINDEX.AddrID.id = TxOut.addr\n",
    "WHERE txIn.tx IN (SELECT TxIn.tx\n",
    "                  FROM TxIn\n",
    "                  INNER JOIN TxOut ON TxIn.ptx = TxOut.tx AND TxIn.pn = TxOut.n\n",
    "                  INNER JOIN DBINDEX.AddrID ON DBINDEX.AddrID.id = TxOut.addr\n",
    "                  WHERE DBINDEX.AddrID.addr = ?);\n",
    "'''"
   ]
  },
  {
   "cell_type": "code",
   "execution_count": null,
   "metadata": {},
   "outputs": [],
   "source": [
    "import os\n",
    "import csv\n",
    "\n",
    "target = list()\n",
    "csvpath = os.path.abspath(os.path.expanduser(input('읽어올 CSV 경로: ').strip()))\n",
    "with open(csvpath, 'r') as f:\n",
    "    reader = csv.DictReader(f)\n",
    "    for row in reader:\n",
    "        target.append(row['지갑주소'])"
   ]
  },
  {
   "cell_type": "code",
   "execution_count": null,
   "metadata": {},
   "outputs": [],
   "source": [
    "with open('/tmp/output.csv', 'w') as f:\n",
    "    writer = csv.writer(f)\n",
    "    writer.writerow(['추정근거주소', '지갑주소', '추정근거트랜잭션'])\n",
    "    for addr in target:\n",
    "        cur.execute(QUERY, (addr,))\n",
    "        for a, t in cur:\n",
    "            writer.writerow([addr, a, t])"
   ]
  },
  {
   "cell_type": "code",
   "execution_count": null,
   "metadata": {},
   "outputs": [],
   "source": [
    "conn.close()"
   ]
  }
 ],
 "metadata": {
  "kernelspec": {
   "display_name": "Bitcoin",
   "language": "python",
   "name": "bitcoin"
  },
  "language_info": {
   "codemirror_mode": {
    "name": "ipython",
    "version": 3
   },
   "file_extension": ".py",
   "mimetype": "text/x-python",
   "name": "python",
   "nbconvert_exporter": "python",
   "pygments_lexer": "ipython3",
   "version": "3.8.3"
  }
 },
 "nbformat": 4,
 "nbformat_minor": 4
}
