{
 "cells": [
  {
   "cell_type": "code",
   "execution_count": null,
   "metadata": {},
   "outputs": [],
   "source": [
    "import os\n",
    "import sqlite3\n",
    "import time\n",
    "import csv"
   ]
  },
  {
   "cell_type": "code",
   "execution_count": null,
   "metadata": {},
   "outputs": [],
   "source": [
    "index_db = 'index.db'\n",
    "conn = sqlite3.connect(':memory:')\n",
    "cur = conn.cursor()\n",
    "cur.execute('''ATTACH DATABASE ? AS other''', (index_db,))\n",
    "\n",
    "def create_edge_table():\n",
    "    cur.execute('''CREATE TABLE Edge AS\n",
    "                     SELECT other.TxIn.addr AS src, other.TxOut.addr AS dst, COUNT(other.TxIn.tx) AS weight\n",
    "                     FROM other.TxIn\n",
    "                     INNER JOIN other.TxOut ON other.TxIn.tx = other.TxOut.tx\n",
    "                     WHERE other.TxIn.addr != 0 AND other.TxOut.addr != 0\n",
    "                     GROUP BY other.TxIn.addr, other.TxOut.addr;''')\n",
    "    conn.commit()\n",
    "\n",
    "def get_edge_count():\n",
    "    cur.execute('''SELECT COUNT(*) FROM Edge''')\n",
    "    return cur.fetchone()[0]\n",
    "\n",
    "def get_edge_cursor():\n",
    "    cur.execute('''SELECT src, dst, weight\n",
    "                     FROM Edge;''')\n",
    "    return cur"
   ]
  },
  {
   "cell_type": "code",
   "execution_count": null,
   "metadata": {},
   "outputs": [],
   "source": [
    "stime = time.time()\n",
    "create_edge_table()\n",
    "until = get_edge_count()\n",
    "now = 0\n",
    "etime = time.time()\n",
    "print(f'Progress text prepared during {etime-stime}')\n",
    "\n",
    "stime = time.time()\n",
    "edges = list()\n",
    "weights = list()\n",
    "with open('edge.csv', 'w') as f:\n",
    "    writer = csv.DictWriter(f, fieldnames=['src', 'dst', 'weight'],\n",
    "                            quoting=csv.QUOTE_MINIMAL, lineterminator=os.linesep)\n",
    "    writer.writeheader()\n",
    "    for src, dst, weight in get_edge_cursor():\n",
    "        writer.writerow({'src': src,\n",
    "                         'dst': dst,\n",
    "                         'weight': weight})\n",
    "        now = now + 1\n",
    "        print(f'{now/until*100:010.6f}', end='\\r')\n",
    "print()\n",
    "etime = time.time()\n",
    "print(f'Add Edges Done during {etime-stime}')"
   ]
  },
  {
   "cell_type": "code",
   "execution_count": null,
   "metadata": {},
   "outputs": [],
   "source": [
    "conn.close()"
   ]
  }
 ],
 "metadata": {
  "kernelspec": {
   "display_name": "Bitcoin",
   "language": "python",
   "name": "bitcoin"
  },
  "language_info": {
   "codemirror_mode": {
    "name": "ipython",
    "version": 3
   },
   "file_extension": ".py",
   "mimetype": "text/x-python",
   "name": "python",
   "nbconvert_exporter": "python",
   "pygments_lexer": "ipython3",
   "version": "3.8.3"
  }
 },
 "nbformat": 4,
 "nbformat_minor": 4
}
