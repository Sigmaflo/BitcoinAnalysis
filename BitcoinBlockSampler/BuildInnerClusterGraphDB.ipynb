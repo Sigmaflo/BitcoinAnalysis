{
 "cells": [
  {
   "cell_type": "code",
   "execution_count": null,
   "metadata": {},
   "outputs": [],
   "source": [
    "import os\n",
    "import csv\n",
    "import sqlite3\n",
    "import itertools\n",
    "import time\n",
    "import math\n",
    "\n",
    "import igraph\n",
    "import scipy.special"
   ]
  },
  {
   "cell_type": "code",
   "execution_count": null,
   "metadata": {},
   "outputs": [],
   "source": [
    "path_csv = os.path.abspath(os.path.expanduser(input('Read to address csv file: ').strip()))"
   ]
  },
  {
   "cell_type": "code",
   "execution_count": null,
   "metadata": {},
   "outputs": [],
   "source": [
    "conn = sqlite3.connect(':memory:')\n",
    "cur = conn.cursor()\n",
    "\n",
    "def create_node_table():\n",
    "    cur.execute('''CREATE TABLE IF NOT EXISTS Node (\n",
    "                   addr INTEGER PRIMARY KEY);''')\n",
    "\n",
    "def insert_nodes(nodes):\n",
    "    cur.executemany('''INSERT OR IGNORE INTO Node (\n",
    "                       addr) VALUES (\n",
    "                       ?);''', nodes)\n",
    "    \n",
    "def begin_transactions():\n",
    "    cur.execute('BEGIN TRANSACTION;')\n",
    "\n",
    "def commit_transactions():\n",
    "    cur.execute('COMMIT;')\n",
    "\n",
    "def journal_mode(mode):\n",
    "    sql = f'PRAGMA journal_mode = {mode}'\n",
    "    cur.execute(sql)\n",
    "    conn.commit()\n",
    "\n",
    "def synchronous(mode):\n",
    "    sql = f'PRAGMA synchronous = {mode}'\n",
    "    cur.execute(sql)\n",
    "    conn.commit()\n",
    "    \n",
    "index_db = 'index.db'\n",
    "index_conn = sqlite3.connect(f'file:{index_db}?mode=ro')\n",
    "index_cur = index_conn.cursor()\n",
    "\n",
    "def get_addrid(addr):\n",
    "    index_cur.execute('''SELECT id FROM AddrID WHERE addr = ?''', (addr,))\n",
    "    return index_cur.fetchone()[0]\n",
    "\n",
    "def attach_indexdb():\n",
    "    cur.execute('''ATTACH DATABASE ? AS other;''', (index_db,))"
   ]
  },
  {
   "cell_type": "code",
   "execution_count": null,
   "metadata": {},
   "outputs": [],
   "source": [
    "create_node_table()\n",
    "attach_indexdb()\n",
    "synchronous('NORMAL')\n",
    "journal_mode('WAL')"
   ]
  },
  {
   "cell_type": "code",
   "execution_count": null,
   "metadata": {},
   "outputs": [],
   "source": [
    "stime = time.time()\n",
    "nodes = list()\n",
    "with open(path_csv, 'r') as f:\n",
    "    reader = csv.DictReader(f)\n",
    "    for row in reader:\n",
    "        addrid = get_addrid(row['Address'])\n",
    "        nodes.append((addrid,))\n",
    "insert_nodes(nodes)\n",
    "etime = time.time()\n",
    "print(f'Nodes: {len(nodes)} during {etime-stime}')"
   ]
  },
  {
   "cell_type": "code",
   "execution_count": null,
   "metadata": {},
   "outputs": [],
   "source": [
    "stime = time.time()\n",
    "cur.execute('''SELECT TXI.addr, TXO.addr FROM (\n",
    "                       SELECT other.TxIn.tx AS tx, Node.addr AS addr FROM Node\n",
    "                       INNER JOIN other.TxIn ON other.TxIn.addr = Node.addr) AS TXI\n",
    "               INNER JOIN (SELECT other.TxOut.tx AS tx, Node.addr AS addr FROM Node\n",
    "                       INNER JOIN other.TxOut ON other.TxOut.addr = Node.addr) AS TXO\n",
    "                   ON TXI.tx = TXO.tx;''')\n",
    "edges = cur.fetchall()\n",
    "etime = time.time()\n",
    "print(f'Edges: {len(edges)} during {etime-stime}')"
   ]
  },
  {
   "cell_type": "code",
   "execution_count": null,
   "metadata": {},
   "outputs": [],
   "source": [
    "g = igraph.Graph()\n",
    "g.add_vertices([str(x[0]) for x in nodes])\n",
    "g.add_edges([(str(x[0]), str(x[1])) for x in edges])\n",
    "g.write_pickle('graph.igraph')"
   ]
  },
  {
   "cell_type": "code",
   "execution_count": null,
   "metadata": {},
   "outputs": [],
   "source": [
    "stime = time.time()\n",
    "partition = g.community_leiden(objective_function='modularity')\n",
    "etime = time.time()\n",
    "print(f'{len(partition)} during {etime-stime}')"
   ]
  },
  {
   "cell_type": "code",
   "execution_count": null,
   "metadata": {},
   "outputs": [],
   "source": [
    "# # It takes a long time!\n",
    "# stime = time.time()\n",
    "# layout = g.layout_drl()\n",
    "# igraph.plot(g, 'graph.svg', layout=layout)\n",
    "# etime = time.time()\n",
    "# print(f'Plotting done during {etime-stime}')"
   ]
  },
  {
   "cell_type": "code",
   "execution_count": null,
   "metadata": {},
   "outputs": [],
   "source": [
    "conn.close()\n",
    "index_conn.close()"
   ]
  },
  {
   "cell_type": "code",
   "execution_count": null,
   "metadata": {},
   "outputs": [],
   "source": []
  }
 ],
 "metadata": {
  "kernelspec": {
   "display_name": "Bitcoin",
   "language": "python",
   "name": "bitcoin"
  },
  "language_info": {
   "codemirror_mode": {
    "name": "ipython",
    "version": 3
   },
   "file_extension": ".py",
   "mimetype": "text/x-python",
   "name": "python",
   "nbconvert_exporter": "python",
   "pygments_lexer": "ipython3",
   "version": "3.8.3"
  }
 },
 "nbformat": 4,
 "nbformat_minor": 4
}
